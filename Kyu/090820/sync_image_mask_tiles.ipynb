{
 "cells": [
  {
   "cell_type": "code",
   "execution_count": 5,
   "metadata": {
    "collapsed": true
   },
   "outputs": [],
   "source": [
    "import os"
   ]
  },
  {
   "cell_type": "code",
   "execution_count": 6,
   "outputs": [],
   "source": [
    "src = r'\\\\motherserverdw\\Kyu_Sync\\Aging\\data\\fb_detection_practice\\fb_morp_param'\n",
    "tiles = [os.path.join(src,_) for _ in os.listdir(src) if 'tile' in _]\n",
    "tiles = [_ for _ in tiles if '017' in _]\n",
    "imgs = [os.path.join(_,'image') for _ in tiles]\n",
    "masks = [os.path.join(_,'mask') for _ in tiles]\n",
    "for img,mask in zip(imgs,masks):\n",
    "    img_pngs = [_ for _ in os.listdir(img) if _.endswith('png')]\n",
    "    mask_pngs = [_ for _ in os.listdir(mask) if _.endswith('png')]\n",
    "    masks_to_delete = [_ for _ in mask_pngs if _ not in img_pngs]\n",
    "    for item in masks_to_delete:\n",
    "        os.remove(os.path.join(mask,item))\n",
    "\n"
   ],
   "metadata": {
    "collapsed": false,
    "pycharm": {
     "name": "#%%\n"
    }
   }
  }
 ],
 "metadata": {
  "kernelspec": {
   "display_name": "Python 3",
   "language": "python",
   "name": "python3"
  },
  "language_info": {
   "codemirror_mode": {
    "name": "ipython",
    "version": 2
   },
   "file_extension": ".py",
   "mimetype": "text/x-python",
   "name": "python",
   "nbconvert_exporter": "python",
   "pygments_lexer": "ipython2",
   "version": "2.7.6"
  }
 },
 "nbformat": 4,
 "nbformat_minor": 0
}