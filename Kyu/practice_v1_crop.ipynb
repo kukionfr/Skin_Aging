{
 "cells": [
  {
   "cell_type": "code",
   "execution_count": 3,
   "metadata": {
    "collapsed": true
   },
   "outputs": [],
   "source": [
    "import os\n",
    "# from os.path import isfile, join\n",
    "import pandas as pd\n",
    "from PIL import Image\n",
    "Image.MAX_IMAGE_PIXELS = 999999999"
   ]
  },
  {
   "cell_type": "code",
   "execution_count": 4,
   "outputs": [
    {
     "ename": "FileNotFoundError",
     "evalue": "[Errno 2] No such file or directory: '\\\\\\\\motherserverdw\\\\Kyu_Sync\\\\Aging\\\\data\\\\fb_detection_practice\\\\fb_morp_param\\\\5619_Wirtz.Denis_OTS-19_5619-017_tissue_region_practice_0.tif'",
     "output_type": "error",
     "traceback": [
      "\u001B[1;31m---------------------------------------------------------------------------\u001B[0m",
      "\u001B[1;31mFileNotFoundError\u001B[0m                         Traceback (most recent call last)",
      "\u001B[1;32m<ipython-input-4-3544e918676f>\u001B[0m in \u001B[0;36m<module>\u001B[1;34m\u001B[0m\n\u001B[0;32m     13\u001B[0m     \u001B[0mfn\u001B[0m\u001B[1;33m,\u001B[0m \u001B[0mext\u001B[0m \u001B[1;33m=\u001B[0m \u001B[0mos\u001B[0m\u001B[1;33m.\u001B[0m\u001B[0mpath\u001B[0m\u001B[1;33m.\u001B[0m\u001B[0msplitext\u001B[0m\u001B[1;33m(\u001B[0m\u001B[0mimg\u001B[0m\u001B[1;33m)\u001B[0m\u001B[1;33m\u001B[0m\u001B[1;33m\u001B[0m\u001B[0m\n\u001B[0;32m     14\u001B[0m \u001B[1;33m\u001B[0m\u001B[0m\n\u001B[1;32m---> 15\u001B[1;33m     \u001B[0mimg\u001B[0m \u001B[1;33m=\u001B[0m \u001B[0mImage\u001B[0m\u001B[1;33m.\u001B[0m\u001B[0mopen\u001B[0m\u001B[1;33m(\u001B[0m\u001B[0mos\u001B[0m\u001B[1;33m.\u001B[0m\u001B[0mpath\u001B[0m\u001B[1;33m.\u001B[0m\u001B[0mjoin\u001B[0m\u001B[1;33m(\u001B[0m\u001B[0msrc\u001B[0m\u001B[1;33m,\u001B[0m\u001B[0mimg\u001B[0m\u001B[1;33m)\u001B[0m\u001B[1;33m)\u001B[0m\u001B[1;33m\u001B[0m\u001B[1;33m\u001B[0m\u001B[0m\n\u001B[0m\u001B[0;32m     16\u001B[0m     \u001B[0mbw\u001B[0m \u001B[1;33m=\u001B[0m \u001B[0mImage\u001B[0m\u001B[1;33m.\u001B[0m\u001B[0mopen\u001B[0m\u001B[1;33m(\u001B[0m\u001B[0mos\u001B[0m\u001B[1;33m.\u001B[0m\u001B[0mpath\u001B[0m\u001B[1;33m.\u001B[0m\u001B[0mjoin\u001B[0m\u001B[1;33m(\u001B[0m\u001B[0msrc\u001B[0m\u001B[1;33m,\u001B[0m\u001B[0mbw\u001B[0m\u001B[1;33m)\u001B[0m\u001B[1;33m)\u001B[0m\u001B[1;33m\u001B[0m\u001B[1;33m\u001B[0m\u001B[0m\n\u001B[0;32m     17\u001B[0m \u001B[1;33m\u001B[0m\u001B[0m\n",
      "\u001B[1;32mc:\\users\\kuki\\anaconda3\\envs\\tf21\\lib\\site-packages\\PIL\\Image.py\u001B[0m in \u001B[0;36mopen\u001B[1;34m(fp, mode)\u001B[0m\n\u001B[0;32m   2876\u001B[0m \u001B[1;33m\u001B[0m\u001B[0m\n\u001B[0;32m   2877\u001B[0m     \u001B[1;32mif\u001B[0m \u001B[0mfilename\u001B[0m\u001B[1;33m:\u001B[0m\u001B[1;33m\u001B[0m\u001B[1;33m\u001B[0m\u001B[0m\n\u001B[1;32m-> 2878\u001B[1;33m         \u001B[0mfp\u001B[0m \u001B[1;33m=\u001B[0m \u001B[0mbuiltins\u001B[0m\u001B[1;33m.\u001B[0m\u001B[0mopen\u001B[0m\u001B[1;33m(\u001B[0m\u001B[0mfilename\u001B[0m\u001B[1;33m,\u001B[0m \u001B[1;34m\"rb\"\u001B[0m\u001B[1;33m)\u001B[0m\u001B[1;33m\u001B[0m\u001B[1;33m\u001B[0m\u001B[0m\n\u001B[0m\u001B[0;32m   2879\u001B[0m         \u001B[0mexclusive_fp\u001B[0m \u001B[1;33m=\u001B[0m \u001B[1;32mTrue\u001B[0m\u001B[1;33m\u001B[0m\u001B[1;33m\u001B[0m\u001B[0m\n\u001B[0;32m   2880\u001B[0m \u001B[1;33m\u001B[0m\u001B[0m\n",
      "\u001B[1;31mFileNotFoundError\u001B[0m: [Errno 2] No such file or directory: '\\\\\\\\motherserverdw\\\\Kyu_Sync\\\\Aging\\\\data\\\\fb_detection_practice\\\\fb_morp_param\\\\5619_Wirtz.Denis_OTS-19_5619-017_tissue_region_practice_0.tif'"
     ]
    }
   ],
   "source": [
    "src = r'\\\\motherserverdw\\Kyu_Sync\\Aging\\data\\fb_detection_practice\\fb_morp_param'\n",
    "# csv = '5619_Wirtz.Denis_OTS-19_5619-017_parameters_2.csv'\n",
    "csvs = [f for f in os.listdir(src) if os.path.isfile(os.path.join(src, f)) and \"parameter\" in f]\n",
    "\n",
    "for x in csvs:\n",
    "    csv = pd.read_csv(os.path.join(src, x))\n",
    "    x_cent = csv['x']\n",
    "    y_cent = csv['y']\n",
    "    img = x.replace(\"parameters\", \"tissue_region\")\n",
    "    img = img.replace(\"csv\", \"tif\")\n",
    "    bw = img.replace('tissue_region','SF_filtered')\n",
    "\n",
    "    fn, ext = os.path.splitext(img)\n",
    "\n",
    "    img = Image.open(os.path.join(src,img))\n",
    "    bw = Image.open(os.path.join(src,bw))\n",
    "\n",
    "    dst = os.path.join(src,fn+'_tile')\n",
    "    dst_img = os.path.join(dst,'image')\n",
    "    dst_bw = os.path.join(dst,'mask')\n",
    "    if not os.path.exists(dst): os.mkdir(dst)\n",
    "    if not os.path.exists(dst_img): os.mkdir(dst_img)\n",
    "    if not os.path.exists(dst_bw): os.mkdir(dst_bw)\n",
    "\n",
    "    for idx,(x,y) in enumerate(zip(x_cent,y_cent)):\n",
    "        (left, upper, right, lower) = (x-50, y-50, x+50, y+50)\n",
    "        # im_crop = img.crop((left, upper, right, lower))\n",
    "        bw_crop = bw.crop((left,upper,right,lower))\n",
    "        # im_crop.save(os.path.join(dst_img,'tile_{:d}.png'.format(idx)))\n",
    "        bw_crop.save(os.path.join(dst_bw,'tile_{:d}.png'.format(idx)))"
   ],
   "metadata": {
    "collapsed": false,
    "pycharm": {
     "name": "#%%\n"
    }
   }
  }
 ],
 "metadata": {
  "kernelspec": {
   "display_name": "Python 3",
   "language": "python",
   "name": "python3"
  },
  "language_info": {
   "codemirror_mode": {
    "name": "ipython",
    "version": 2
   },
   "file_extension": ".py",
   "mimetype": "text/x-python",
   "name": "python",
   "nbconvert_exporter": "python",
   "pygments_lexer": "ipython2",
   "version": "2.7.6"
  }
 },
 "nbformat": 4,
 "nbformat_minor": 0
}