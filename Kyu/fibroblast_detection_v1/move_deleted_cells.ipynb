{
 "cells": [
  {
   "cell_type": "code",
   "execution_count": 1,
   "metadata": {
    "collapsed": true
   },
   "outputs": [],
   "source": [
    "import os\n",
    "import pandas as pd\n",
    "import numpy as np\n",
    "from PIL import Image\n",
    "import sys\n",
    "Image.MAX_IMAGE_PIXELS = 999999999"
   ]
  },
  {
   "cell_type": "code",
   "execution_count": 2,
   "outputs": [],
   "source": [
    "src = r'\\\\motherserverdw\\Kyu_Sync\\server for undergrads\\JongHa'\n",
    "csvs = [_ for _ in os.listdir(src) if _.endswith('csv')]\n",
    "# csvs = [_ for _ in csvs if '017' in _]\n",
    "tiles = [os.path.splitext(_.replace('parameters','tile'))[0] for _ in csvs]\n",
    "images = [os.path.join(_,'image') for _ in tiles]\n",
    "masks = [os.path.join(_,'mask') for _ in tiles]\n"
   ],
   "metadata": {
    "collapsed": false,
    "pycharm": {
     "name": "#%%\n"
    }
   }
  },
  {
   "cell_type": "code",
   "execution_count": 3,
   "outputs": [],
   "source": [
    "for csv_nm,tile_nm,img_nm in zip(csvs,tiles,images):\n",
    "    # read csv file with fibroblast information\n",
    "    csv = pd.read_csv(os.path.join(src,csv_nm))\n",
    "    png = [os.path.join(src,_) for _ in os.listdir(os.path.join(src,img_nm)) if _.endswith('png')]\n",
    "    png_positive = [int((os.path.splitext(os.path.split(_)[-1])[0])[5:]) for _ in png]\n",
    "    positivity = pd.Series(np.zeros(len(csv)).astype(np.bool))\n",
    "    positivity[png_positive]=True\n",
    "    csv['isfibro']=positivity\n",
    "    csv_nofb = csv.loc[csv['isfibro'] == False]\n",
    "    if len(csv_nofb)<1: continue #there was no gating yet\n",
    "\n",
    "    dst = os.path.join(src,tile_nm.replace('tile','false_positive'))\n",
    "    if not os.path.exists(dst): os.mkdir(dst) # there was already filtering done for this\n",
    "    else: continue\n",
    "    csv.to_csv(os.path.join(src,csv_nm),index=False)\n",
    "    dst_img = os.path.join(dst,'image')\n",
    "    dst_mask = os.path.join(dst,'mask')\n",
    "    if not os.path.exists(dst_img):os.mkdir(dst_img)\n",
    "    if not os.path.exists(dst_mask):os.mkdir(dst_mask)\n",
    "\n",
    "    img_name = csv_nm.replace('parameters','tissue_region').replace('csv','tif')\n",
    "    img_pth = os.path.join(src,img_name)\n",
    "    img = Image.open(img_pth)\n",
    "    bw_img = Image.open(img_pth.replace('tissue_region','filtered'))\n",
    "    xs = csv_nofb['x']\n",
    "    ys = csv_nofb['y']\n",
    "    for idx, row in csv_nofb.iterrows():\n",
    "        x = row['x']\n",
    "        y = row['y']\n",
    "        (left, upper, right, lower) = (x - 50, y - 50, x + 50, y + 50)\n",
    "        im_crop = img.crop((left, upper, right, lower))\n",
    "        bw_crop = bw_img.crop((left, upper, right, lower))\n",
    "        im_crop.save(os.path.join(dst_img,'tile_{:d}.png'.format(idx)))\n",
    "        bw_crop.save(os.path.join(dst_mask,'tile_{:d}.png'.format(idx)))\n"
   ],
   "metadata": {
    "collapsed": false,
    "pycharm": {
     "name": "#%%\n"
    }
   }
  }
 ],
 "metadata": {
  "kernelspec": {
   "display_name": "Python 3",
   "language": "python",
   "name": "python3"
  },
  "language_info": {
   "codemirror_mode": {
    "name": "ipython",
    "version": 2
   },
   "file_extension": ".py",
   "mimetype": "text/x-python",
   "name": "python",
   "nbconvert_exporter": "python",
   "pygments_lexer": "ipython2",
   "version": "2.7.6"
  }
 },
 "nbformat": 4,
 "nbformat_minor": 0
}