{
 "cells": [
  {
   "cell_type": "code",
   "execution_count": 41,
   "metadata": {
    "collapsed": true
   },
   "outputs": [],
   "source": [
    "import os\n",
    "import pandas as pd\n",
    "from PIL import Image\n",
    "Image.MAX_IMAGE_PIXELS = 999999999"
   ]
  },
  {
   "cell_type": "code",
   "execution_count": 42,
   "outputs": [],
   "source": [
    "src = r'\\\\10.162.80.6\\Kyu_Sync\\server for undergrads\\Stephen'\n",
    "\n",
    "csvs = [_ for _ in os.listdir(src) if _.endswith('csv')]\n",
    "fns = [os.path.splitext(_)[0] for _ in csvs]\n",
    "trues = [_.replace('parameters','tile') for _ in fns]\n",
    "falses = [_.replace('tile','false_positive') for _ in trues]"
   ],
   "metadata": {
    "collapsed": false,
    "pycharm": {
     "name": "#%%\n"
    }
   }
  },
  {
   "cell_type": "code",
   "execution_count": 43,
   "outputs": [],
   "source": [
    "for csv,true,false in zip(csvs,trues,falses):\n",
    "    csvdf = pd.read_csv(os.path.join(src,csv))\n",
    "    truepngs = [os.path.splitext(_)[0][5:] for _ in os.listdir(os.path.join(src,true,'image')) if _.endswith('png')]\n",
    "    falsepngs = [os.path.splitext(_)[0][5:] for _ in os.listdir(os.path.join(src,false,'image')) if _.endswith('png')]\n",
    "    allpngs = truepngs+falsepngs\n",
    "    pngs2move = [_ for _ in list(csvdf.index) if str(_) not in allpngs]\n",
    "    pngs2movedf = csvdf.iloc[pngs2move]\n",
    "\n",
    "    img_name = csv.replace('parameters','tissue_region').replace('csv','tif')\n",
    "    img_pth = os.path.join(src,img_name)\n",
    "    img = Image.open(img_pth)\n",
    "    bw_img = Image.open(img_pth.replace('tissue_region','filtered'))\n",
    "\n",
    "    for idx, row in pngs2movedf.iterrows():\n",
    "        x = row['x']\n",
    "        y = row['y']\n",
    "        (left, upper, right, lower) = (x - 50, y - 50, x + 50, y + 50)\n",
    "        im_crop = img.crop((left, upper, right, lower))\n",
    "        bw_crop = bw_img.crop((left, upper, right, lower))\n",
    "        im_crop.save(os.path.join(*[src,true,'image','tile_{:d}.png'.format(idx)]))\n",
    "        bw_crop.save(os.path.join(*[src,true,'mask','tile_{:d}.png'.format(idx)]))"
   ],
   "metadata": {
    "collapsed": false,
    "pycharm": {
     "name": "#%%\n"
    }
   }
  }
 ],
 "metadata": {
  "kernelspec": {
   "display_name": "Python 3",
   "language": "python",
   "name": "python3"
  },
  "language_info": {
   "codemirror_mode": {
    "name": "ipython",
    "version": 2
   },
   "file_extension": ".py",
   "mimetype": "text/x-python",
   "name": "python",
   "nbconvert_exporter": "python",
   "pygments_lexer": "ipython2",
   "version": "2.7.6"
  }
 },
 "nbformat": 4,
 "nbformat_minor": 0
}