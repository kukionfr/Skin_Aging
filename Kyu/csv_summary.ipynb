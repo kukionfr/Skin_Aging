{
 "cells": [
  {
   "cell_type": "code",
   "execution_count": 3,
   "metadata": {
    "collapsed": true,
    "pycharm": {
     "name": "#%%\n"
    }
   },
   "outputs": [
    {
     "data": {
      "text/plain": "['\\\\\\\\kukissd\\\\research\\\\aging\\\\undergrad_replicate_data\\\\svs\\\\heejae\\\\age_group2\\\\roi\\\\5619_Wirtz.Denis_OTS-19_5619-001 (1)_parameters_0.csv',\n '\\\\\\\\kukissd\\\\research\\\\aging\\\\undergrad_replicate_data\\\\svs\\\\heejae\\\\age_group2\\\\roi\\\\5619_Wirtz.Denis_OTS-19_5619-001 (1)_parameters_1.csv',\n '\\\\\\\\kukissd\\\\research\\\\aging\\\\undergrad_replicate_data\\\\svs\\\\heejae\\\\age_group2\\\\roi\\\\5619_Wirtz.Denis_OTS-19_5619-001 (1)_parameters_2.csv',\n '\\\\\\\\kukissd\\\\research\\\\aging\\\\undergrad_replicate_data\\\\svs\\\\heejae\\\\age_group2\\\\roi\\\\5619_Wirtz.Denis_OTS-19_5619-021_parameters_0.csv',\n '\\\\\\\\kukissd\\\\research\\\\aging\\\\undergrad_replicate_data\\\\svs\\\\heejae\\\\age_group2\\\\roi\\\\5619_Wirtz.Denis_OTS-19_5619-021_parameters_1.csv',\n '\\\\\\\\kukissd\\\\research\\\\aging\\\\undergrad_replicate_data\\\\svs\\\\heejae\\\\age_group2\\\\roi\\\\5619_Wirtz.Denis_OTS-19_5619-021_parameters_2.csv',\n '\\\\\\\\kukissd\\\\research\\\\aging\\\\undergrad_replicate_data\\\\svs\\\\heejae\\\\age_group2\\\\roi\\\\5619_Wirtz.Denis_OTS-19_5619-021_parameters_3.csv',\n '\\\\\\\\kukissd\\\\research\\\\aging\\\\undergrad_replicate_data\\\\svs\\\\heejae\\\\age_group2\\\\roi\\\\5619_Wirtz.Denis_OTS-19_5619-025_parameters_0.csv',\n '\\\\\\\\kukissd\\\\research\\\\aging\\\\undergrad_replicate_data\\\\svs\\\\heejae\\\\age_group2\\\\roi\\\\5619_Wirtz.Denis_OTS-19_5619-025_parameters_1.csv',\n '\\\\\\\\kukissd\\\\research\\\\aging\\\\undergrad_replicate_data\\\\svs\\\\heejae\\\\age_group2\\\\roi\\\\5619_Wirtz.Denis_OTS-19_5619-025_parameters_2.csv',\n '\\\\\\\\kukissd\\\\research\\\\aging\\\\undergrad_replicate_data\\\\svs\\\\heejae\\\\age_group2\\\\roi\\\\5619_Wirtz.Denis_OTS-19_5619-026_parameters_0.csv',\n '\\\\\\\\kukissd\\\\research\\\\aging\\\\undergrad_replicate_data\\\\svs\\\\heejae\\\\age_group2\\\\roi\\\\5619_Wirtz.Denis_OTS-19_5619-026_parameters_1.csv',\n '\\\\\\\\kukissd\\\\research\\\\aging\\\\undergrad_replicate_data\\\\svs\\\\heejae\\\\age_group2\\\\roi\\\\5619_Wirtz.Denis_OTS-19_5619-026_parameters_2.csv',\n '\\\\\\\\kukissd\\\\research\\\\aging\\\\undergrad_replicate_data\\\\svs\\\\heejae\\\\age_group2\\\\roi\\\\5619_Wirtz.Denis_OTS-19_5619-026_parameters_3.csv',\n '\\\\\\\\kukissd\\\\research\\\\aging\\\\undergrad_replicate_data\\\\svs\\\\heejae\\\\age_group2\\\\roi\\\\5619_Wirtz.Denis_OTS-19_5619-027_parameters_0.csv',\n '\\\\\\\\kukissd\\\\research\\\\aging\\\\undergrad_replicate_data\\\\svs\\\\heejae\\\\age_group2\\\\roi\\\\5619_Wirtz.Denis_OTS-19_5619-027_parameters_1.csv',\n '\\\\\\\\kukissd\\\\research\\\\aging\\\\undergrad_replicate_data\\\\svs\\\\heejae\\\\age_group2\\\\roi\\\\5619_Wirtz.Denis_OTS-19_5619-028_parameters_0.csv',\n '\\\\\\\\kukissd\\\\research\\\\aging\\\\undergrad_replicate_data\\\\svs\\\\heejae\\\\age_group2\\\\roi\\\\5619_Wirtz.Denis_OTS-19_5619-028_parameters_1.csv',\n '\\\\\\\\kukissd\\\\research\\\\aging\\\\undergrad_replicate_data\\\\svs\\\\heejae\\\\age_group2\\\\roi\\\\5619_Wirtz.Denis_OTS-19_5619-029_parameters_0.csv',\n '\\\\\\\\kukissd\\\\research\\\\aging\\\\undergrad_replicate_data\\\\svs\\\\heejae\\\\age_group2\\\\roi\\\\5619_Wirtz.Denis_OTS-19_5619-029_parameters_1.csv',\n '\\\\\\\\kukissd\\\\research\\\\aging\\\\undergrad_replicate_data\\\\svs\\\\heejae\\\\age_group2\\\\roi\\\\5619_Wirtz.Denis_OTS-19_5619-029_parameters_2.csv',\n '\\\\\\\\kukissd\\\\research\\\\aging\\\\undergrad_replicate_data\\\\svs\\\\heejae\\\\age_group2\\\\roi\\\\5619_Wirtz.Denis_OTS-19_5619-029_parameters_3.csv',\n '\\\\\\\\kukissd\\\\research\\\\aging\\\\undergrad_replicate_data\\\\svs\\\\heejae\\\\age_group2\\\\roi\\\\5619_Wirtz.Denis_OTS-19_5619-030_parameters_0.csv',\n '\\\\\\\\kukissd\\\\research\\\\aging\\\\undergrad_replicate_data\\\\svs\\\\heejae\\\\age_group2\\\\roi\\\\5619_Wirtz.Denis_OTS-19_5619-030_parameters_1.csv',\n '\\\\\\\\kukissd\\\\research\\\\aging\\\\undergrad_replicate_data\\\\svs\\\\heejae\\\\age_group2\\\\roi\\\\5619_Wirtz.Denis_OTS-19_5619-030_parameters_2.csv',\n '\\\\\\\\kukissd\\\\research\\\\aging\\\\undergrad_replicate_data\\\\svs\\\\heejae\\\\age_group2\\\\roi\\\\5619_Wirtz.Denis_OTS-19_5619-030_parameters_3.csv',\n '\\\\\\\\kukissd\\\\research\\\\aging\\\\undergrad_replicate_data\\\\svs\\\\heejae\\\\age_group2\\\\roi\\\\5619_Wirtz.Denis_OTS-19_5619-033_parameters_0.csv',\n '\\\\\\\\kukissd\\\\research\\\\aging\\\\undergrad_replicate_data\\\\svs\\\\heejae\\\\age_group2\\\\roi\\\\5619_Wirtz.Denis_OTS-19_5619-033_parameters_1.csv',\n '\\\\\\\\kukissd\\\\research\\\\aging\\\\undergrad_replicate_data\\\\svs\\\\heejae\\\\age_group2\\\\roi\\\\5619_Wirtz.Denis_OTS-19_5619-033_parameters_2.csv',\n '\\\\\\\\kukissd\\\\research\\\\aging\\\\undergrad_replicate_data\\\\svs\\\\heejae\\\\age_group2\\\\roi\\\\5619_Wirtz.Denis_OTS-19_5619-034_parameters_0.csv',\n '\\\\\\\\kukissd\\\\research\\\\aging\\\\undergrad_replicate_data\\\\svs\\\\heejae\\\\age_group2\\\\roi\\\\5619_Wirtz.Denis_OTS-19_5619-034_parameters_1.csv',\n '\\\\\\\\kukissd\\\\research\\\\aging\\\\undergrad_replicate_data\\\\svs\\\\heejae\\\\age_group2\\\\roi\\\\5619_Wirtz.Denis_OTS-19_5619-034_parameters_2.csv',\n '\\\\\\\\kukissd\\\\research\\\\aging\\\\undergrad_replicate_data\\\\svs\\\\heejae\\\\age_group2\\\\roi\\\\5619_Wirtz.Denis_OTS-19_5619-034_parameters_3.csv',\n '\\\\\\\\kukissd\\\\research\\\\aging\\\\undergrad_replicate_data\\\\svs\\\\heejae\\\\age_group2\\\\roi\\\\5619_Wirtz.Denis_OTS-19_5619-035_parameters_0.csv',\n '\\\\\\\\kukissd\\\\research\\\\aging\\\\undergrad_replicate_data\\\\svs\\\\heejae\\\\age_group2\\\\roi\\\\5619_Wirtz.Denis_OTS-19_5619-035_parameters_1.csv',\n '\\\\\\\\kukissd\\\\research\\\\aging\\\\undergrad_replicate_data\\\\svs\\\\heejae\\\\age_group2\\\\roi\\\\5619_Wirtz.Denis_OTS-19_5619-035_parameters_2.csv',\n '\\\\\\\\kukissd\\\\research\\\\aging\\\\undergrad_replicate_data\\\\svs\\\\heejae\\\\age_group2\\\\roi\\\\5619_Wirtz.Denis_OTS-19_5619-035_parameters_3.csv',\n '\\\\\\\\kukissd\\\\research\\\\aging\\\\undergrad_replicate_data\\\\svs\\\\heejae\\\\age_group2\\\\roi\\\\5619_Wirtz.Denis_OTS-19_5619-035_parameters_4.csv',\n '\\\\\\\\kukissd\\\\research\\\\aging\\\\undergrad_replicate_data\\\\svs\\\\heejae\\\\age_group2\\\\roi\\\\5619_Wirtz.Denis_OTS-19_5619-035_parameters_5.csv']"
     },
     "execution_count": 3,
     "metadata": {},
     "output_type": "execute_result"
    }
   ],
   "source": [
    "import os\n",
    "csv_src = r'\\\\kukissd\\research\\aging\\undergrad_replicate_data\\svs\\heejae\\age_group2\\roi'\n",
    "fns = [os.path.join(csv_src,_) for _ in os.listdir(csv_src) if _.lower().endswith('csv')]\n",
    "fns"
   ]
  },
  {
   "cell_type": "code",
   "execution_count": 8,
   "outputs": [],
   "source": [
    "import pandas as pd\n",
    "import numpy as np\n",
    "\n",
    "area_means = []\n",
    "ar_means = []\n",
    "cir_means = []\n",
    "\n",
    "area_stds = []\n",
    "ar_stds = []\n",
    "cir_stds = []\n",
    "\n",
    "for fn in fns:\n",
    "    csv = pd.read_csv(fn)\n",
    "    area = csv['area']\n",
    "    ar = csv['aspect_ratio']\n",
    "    cir = csv['circularity']\n",
    "\n",
    "    area_means.append(np.mean(area))\n",
    "    ar_means.append(np.mean(ar))\n",
    "    cir_means.append(np.mean(cir))\n",
    "    area_stds.append(np.std(area))\n",
    "    ar_stds.append(np.std(ar))\n",
    "    cir_stds.append(np.std(cir))\n",
    "\n",
    "dict = {'filename':fns,\n",
    "        'area_mean':area_means,'area_std':area_stds,\n",
    "        'AR_mean':ar_means,'AR_std':ar_stds,\n",
    "        'SF_mean':cir_means,'SF_std':cir_stds\n",
    "        }\n",
    "\n",
    "df=pd.DataFrame(dict)\n",
    "df.to_csv(os.path.join(csv_src,'summary.csv'),index=False)"
   ],
   "metadata": {
    "collapsed": false,
    "pycharm": {
     "name": "#%%\n"
    }
   }
  },
  {
   "cell_type": "code",
   "execution_count": 7,
   "outputs": [
    {
     "data": {
      "text/plain": "0     0.692\n1     0.667\n2     0.420\n3     0.590\n4     0.660\n5     0.404\n6     0.671\n7     0.627\n8     0.599\n9     0.631\n10    0.615\n11    0.640\n12    0.686\n13    0.573\n14    0.682\n15    0.502\n16    0.535\n17    0.593\n18    0.542\n19    0.651\n20    0.542\n21    0.617\n22    0.547\n23    0.683\n24    0.667\n25    0.660\n26    0.576\n27    0.682\n28    0.429\n29    0.109\n30    0.610\n31    0.577\n32    0.513\n33    0.641\n34    0.654\n35    0.514\n36    0.625\n37    0.612\n38    0.577\n39    0.559\n40    0.384\n41    0.622\n42    0.438\n43    0.620\n44    0.588\n45    0.157\n46    0.533\n47    0.680\n48    0.524\nName: circularity, dtype: float64"
     },
     "execution_count": 7,
     "metadata": {},
     "output_type": "execute_result"
    }
   ],
   "source": [],
   "metadata": {
    "collapsed": false,
    "pycharm": {
     "name": "#%%\n"
    }
   }
  }
 ],
 "metadata": {
  "kernelspec": {
   "display_name": "Python 3",
   "language": "python",
   "name": "python3"
  },
  "language_info": {
   "codemirror_mode": {
    "name": "ipython",
    "version": 2
   },
   "file_extension": ".py",
   "mimetype": "text/x-python",
   "name": "python",
   "nbconvert_exporter": "python",
   "pygments_lexer": "ipython2",
   "version": "2.7.6"
  }
 },
 "nbformat": 4,
 "nbformat_minor": 0
}