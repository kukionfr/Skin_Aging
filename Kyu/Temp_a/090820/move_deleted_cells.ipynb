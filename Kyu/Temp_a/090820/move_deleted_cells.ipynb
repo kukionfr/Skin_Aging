{
 "cells": [
  {
   "cell_type": "code",
   "execution_count": 4,
   "metadata": {
    "collapsed": true
   },
   "outputs": [],
   "source": [
    "import os\n",
    "import pandas as pd\n",
    "import numpy as np\n",
    "from PIL import Image\n",
    "import sys\n",
    "Image.MAX_IMAGE_PIXELS = 999999999"
   ]
  },
  {
   "cell_type": "code",
   "execution_count": 5,
   "outputs": [],
   "source": [
    "src = r'\\\\motherserverdw\\Kyu_Sync\\Aging\\data\\fb_detection_practice\\fb_morp_param'\n",
    "csvs = [_ for _ in os.listdir(src) if _.endswith('csv')]\n",
    "csvs = [_ for _ in csvs if '017' in _]\n",
    "tiles = [os.path.splitext(_.replace('parameters','tissue_region'))[0]+'_tile' for _ in csvs]\n",
    "images = [os.path.join(_,'image') for _ in tiles]\n",
    "masks = [os.path.join(_,'mask') for _ in tiles]\n"
   ],
   "metadata": {
    "collapsed": false,
    "pycharm": {
     "name": "#%%\n"
    }
   }
  },
  {
   "cell_type": "code",
   "execution_count": 6,
   "outputs": [
    {
     "ename": "FileNotFoundError",
     "evalue": "[WinError 3] The system cannot find the path specified: '\\\\\\\\motherserverdw\\\\Kyu_Sync\\\\Aging\\\\data\\\\fb_detection_practice\\\\fb_morp_param\\\\5619_Wirtz.Denis_OTS-19_5619-017_tissue_region_practice_0_tile\\\\image'",
     "output_type": "error",
     "traceback": [
      "\u001B[1;31m---------------------------------------------------------------------------\u001B[0m",
      "\u001B[1;31mFileNotFoundError\u001B[0m                         Traceback (most recent call last)",
      "\u001B[1;32m<ipython-input-6-43e6ad985052>\u001B[0m in \u001B[0;36m<module>\u001B[1;34m\u001B[0m\n\u001B[0;32m      1\u001B[0m \u001B[1;32mfor\u001B[0m \u001B[0mcsv_nm\u001B[0m\u001B[1;33m,\u001B[0m\u001B[0mtile_nm\u001B[0m\u001B[1;33m,\u001B[0m\u001B[0mimg_nm\u001B[0m \u001B[1;32min\u001B[0m \u001B[0mzip\u001B[0m\u001B[1;33m(\u001B[0m\u001B[0mcsvs\u001B[0m\u001B[1;33m,\u001B[0m\u001B[0mtiles\u001B[0m\u001B[1;33m,\u001B[0m\u001B[0mimages\u001B[0m\u001B[1;33m)\u001B[0m\u001B[1;33m:\u001B[0m\u001B[1;33m\u001B[0m\u001B[1;33m\u001B[0m\u001B[0m\n\u001B[0;32m      2\u001B[0m     \u001B[0mcsv\u001B[0m \u001B[1;33m=\u001B[0m \u001B[0mpd\u001B[0m\u001B[1;33m.\u001B[0m\u001B[0mread_csv\u001B[0m\u001B[1;33m(\u001B[0m\u001B[0mos\u001B[0m\u001B[1;33m.\u001B[0m\u001B[0mpath\u001B[0m\u001B[1;33m.\u001B[0m\u001B[0mjoin\u001B[0m\u001B[1;33m(\u001B[0m\u001B[0msrc\u001B[0m\u001B[1;33m,\u001B[0m\u001B[0mcsv_nm\u001B[0m\u001B[1;33m)\u001B[0m\u001B[1;33m)\u001B[0m\u001B[1;33m\u001B[0m\u001B[1;33m\u001B[0m\u001B[0m\n\u001B[1;32m----> 3\u001B[1;33m     \u001B[0mpng\u001B[0m \u001B[1;33m=\u001B[0m \u001B[1;33m[\u001B[0m\u001B[0mos\u001B[0m\u001B[1;33m.\u001B[0m\u001B[0mpath\u001B[0m\u001B[1;33m.\u001B[0m\u001B[0mjoin\u001B[0m\u001B[1;33m(\u001B[0m\u001B[0msrc\u001B[0m\u001B[1;33m,\u001B[0m\u001B[0m_\u001B[0m\u001B[1;33m)\u001B[0m \u001B[1;32mfor\u001B[0m \u001B[0m_\u001B[0m \u001B[1;32min\u001B[0m \u001B[0mos\u001B[0m\u001B[1;33m.\u001B[0m\u001B[0mlistdir\u001B[0m\u001B[1;33m(\u001B[0m\u001B[0mos\u001B[0m\u001B[1;33m.\u001B[0m\u001B[0mpath\u001B[0m\u001B[1;33m.\u001B[0m\u001B[0mjoin\u001B[0m\u001B[1;33m(\u001B[0m\u001B[0msrc\u001B[0m\u001B[1;33m,\u001B[0m\u001B[0mimg_nm\u001B[0m\u001B[1;33m)\u001B[0m\u001B[1;33m)\u001B[0m \u001B[1;32mif\u001B[0m \u001B[0m_\u001B[0m\u001B[1;33m.\u001B[0m\u001B[0mendswith\u001B[0m\u001B[1;33m(\u001B[0m\u001B[1;34m'png'\u001B[0m\u001B[1;33m)\u001B[0m\u001B[1;33m]\u001B[0m\u001B[1;33m\u001B[0m\u001B[1;33m\u001B[0m\u001B[0m\n\u001B[0m\u001B[0;32m      4\u001B[0m     \u001B[0mpng_positive\u001B[0m \u001B[1;33m=\u001B[0m \u001B[1;33m[\u001B[0m\u001B[0mint\u001B[0m\u001B[1;33m(\u001B[0m\u001B[1;33m(\u001B[0m\u001B[0mos\u001B[0m\u001B[1;33m.\u001B[0m\u001B[0mpath\u001B[0m\u001B[1;33m.\u001B[0m\u001B[0msplitext\u001B[0m\u001B[1;33m(\u001B[0m\u001B[0mos\u001B[0m\u001B[1;33m.\u001B[0m\u001B[0mpath\u001B[0m\u001B[1;33m.\u001B[0m\u001B[0msplit\u001B[0m\u001B[1;33m(\u001B[0m\u001B[0m_\u001B[0m\u001B[1;33m)\u001B[0m\u001B[1;33m[\u001B[0m\u001B[1;33m-\u001B[0m\u001B[1;36m1\u001B[0m\u001B[1;33m]\u001B[0m\u001B[1;33m)\u001B[0m\u001B[1;33m[\u001B[0m\u001B[1;36m0\u001B[0m\u001B[1;33m]\u001B[0m\u001B[1;33m)\u001B[0m\u001B[1;33m[\u001B[0m\u001B[1;36m5\u001B[0m\u001B[1;33m:\u001B[0m\u001B[1;33m]\u001B[0m\u001B[1;33m)\u001B[0m \u001B[1;32mfor\u001B[0m \u001B[0m_\u001B[0m \u001B[1;32min\u001B[0m \u001B[0mpng\u001B[0m\u001B[1;33m]\u001B[0m\u001B[1;33m\u001B[0m\u001B[1;33m\u001B[0m\u001B[0m\n\u001B[0;32m      5\u001B[0m     \u001B[0mpositivity\u001B[0m \u001B[1;33m=\u001B[0m \u001B[0mpd\u001B[0m\u001B[1;33m.\u001B[0m\u001B[0mSeries\u001B[0m\u001B[1;33m(\u001B[0m\u001B[0mnp\u001B[0m\u001B[1;33m.\u001B[0m\u001B[0mzeros\u001B[0m\u001B[1;33m(\u001B[0m\u001B[0mlen\u001B[0m\u001B[1;33m(\u001B[0m\u001B[0mcsv\u001B[0m\u001B[1;33m)\u001B[0m\u001B[1;33m)\u001B[0m\u001B[1;33m.\u001B[0m\u001B[0mastype\u001B[0m\u001B[1;33m(\u001B[0m\u001B[0mnp\u001B[0m\u001B[1;33m.\u001B[0m\u001B[0mbool\u001B[0m\u001B[1;33m)\u001B[0m\u001B[1;33m)\u001B[0m\u001B[1;33m\u001B[0m\u001B[1;33m\u001B[0m\u001B[0m\n",
      "\u001B[1;31mFileNotFoundError\u001B[0m: [WinError 3] The system cannot find the path specified: '\\\\\\\\motherserverdw\\\\Kyu_Sync\\\\Aging\\\\data\\\\fb_detection_practice\\\\fb_morp_param\\\\5619_Wirtz.Denis_OTS-19_5619-017_tissue_region_practice_0_tile\\\\image'"
     ]
    }
   ],
   "source": [
    "for csv_nm,tile_nm,img_nm in zip(csvs,tiles,images):\n",
    "    # read csv file with fibroblast information\n",
    "    csv = pd.read_csv(os.path.join(src,csv_nm))\n",
    "    png = [os.path.join(src,_) for _ in os.listdir(os.path.join(src,img_nm)) if _.endswith('png')]\n",
    "    png_positive = [int((os.path.splitext(os.path.split(_)[-1])[0])[5:]) for _ in png]\n",
    "    positivity = pd.Series(np.zeros(len(csv)).astype(np.bool))\n",
    "    positivity[png_positive]=True\n",
    "    csv['isfibro']=positivity\n",
    "    csv_nofb = csv.loc[csv['isfibro'] == False]\n",
    "    if len(csv_nofb)<1: continue #there was no gating yet\n",
    "\n",
    "    dst = os.path.join(src,tile_nm.replace('tile','false_positive'))\n",
    "    if not os.path.exists(dst): os.mkdir(dst) # there was already filtering done for this\n",
    "    else: continue\n",
    "    csv.to_csv(os.path.join(src,csv_nm),index=False)\n",
    "    dst_img = os.path.join(dst,'image')\n",
    "    dst_mask = os.path.join(dst,'mask')\n",
    "    if not os.path.exists(dst_img):os.mkdir(dst_img)\n",
    "    if not os.path.exists(dst_mask):os.mkdir(dst_mask)\n",
    "\n",
    "    img_name = csv_nm.replace('parameters','tissue_region').replace('csv','tif')\n",
    "    img_pth = os.path.join(src,img_name)\n",
    "    img = Image.open(img_pth)\n",
    "    bw_img = Image.open(img_pth.replace('tissue_region','SF_filtered'))\n",
    "    xs = csv_nofb['x']\n",
    "    ys = csv_nofb['y']\n",
    "    for idx, row in csv_nofb.iterrows():\n",
    "        x = row['x']\n",
    "        y = row['y']\n",
    "        (left, upper, right, lower) = (x - 50, y - 50, x + 50, y + 50)\n",
    "        im_crop = img.crop((left, upper, right, lower))\n",
    "        bw_crop = bw_img.crop((left, upper, right, lower))\n",
    "        im_crop.save(os.path.join(dst_img,'tile_{:d}.png'.format(idx)))\n",
    "        bw_crop.save(os.path.join(dst_mask,'tile_{:d}.png'.format(idx)))\n"
   ],
   "metadata": {
    "collapsed": false,
    "pycharm": {
     "name": "#%%\n"
    }
   }
  }
 ],
 "metadata": {
  "kernelspec": {
   "display_name": "Python 3",
   "language": "python",
   "name": "python3"
  },
  "language_info": {
   "codemirror_mode": {
    "name": "ipython",
    "version": 2
   },
   "file_extension": ".py",
   "mimetype": "text/x-python",
   "name": "python",
   "nbconvert_exporter": "python",
   "pygments_lexer": "ipython2",
   "version": "2.7.6"
  }
 },
 "nbformat": 4,
 "nbformat_minor": 0
}