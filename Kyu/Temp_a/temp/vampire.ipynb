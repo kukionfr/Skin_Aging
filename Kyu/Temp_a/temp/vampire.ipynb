{
 "cells": [
  {
   "cell_type": "code",
   "execution_count": 18,
   "metadata": {
    "collapsed": true,
    "pycharm": {
     "name": "#%%\n"
    }
   },
   "outputs": [],
   "source": [
    "from matplotlib import pyplot as plt\n",
    "import os\n",
    "import numpy as np\n",
    "import pandas as pd\n",
    "import re\n",
    "# fig,ax=plt.subplots()\n",
    "# fig.savefig('test.svg', format='svg')"
   ]
  },
  {
   "cell_type": "code",
   "execution_count": 19,
   "outputs": [],
   "source": [
    "src = r'\\\\kukissd\\research\\Database\\MEF micropattern matfiles\\out'\n",
    "folders = [os.path.join(src,_) for _ in os.listdir(src)]"
   ],
   "metadata": {
    "collapsed": false,
    "pycharm": {
     "name": "#%%\n"
    }
   }
  },
  {
   "cell_type": "code",
   "execution_count": 20,
   "outputs": [],
   "source": [
    "avg_inertias = []\n",
    "cluster_nums = []\n",
    "for folder in folders:\n",
    "    root,foldername=os.path.split(folder)\n",
    "    csvsrc = os.path.join(folder,'Result based on '+foldername)\n",
    "    csvs = [os.path.join(csvsrc,_) for _ in os.listdir(csvsrc) if _.endswith('csv')]\n",
    "\n",
    "    inertias = []\n",
    "    for csv in csvs:\n",
    "        df = pd.read_csv(csv)\n",
    "        for mode in np.unique(df['Shape mode']):\n",
    "            dist = df[df['Shape mode']==mode]['Distance from cluster center']\n",
    "            dist = dist[dist<100]\n",
    "            dist_sum = np.sum(dist**2)\n",
    "            inertias.append(dist_sum)\n",
    "    avg_inertia = np.mean(inertias)\n",
    "    avg_inertias.append(avg_inertia)\n",
    "    cluster_num = int(re.findall(r\"(\\d+)_\", foldername)[0])\n",
    "    cluster_nums.append(cluster_num)"
   ],
   "metadata": {
    "collapsed": false,
    "pycharm": {
     "name": "#%%\n"
    }
   }
  },
  {
   "cell_type": "code",
   "execution_count": 21,
   "outputs": [
    {
     "data": {
      "text/plain": "[2812.408732727273,\n 2812.8011463636362,\n 2814.3737463636367,\n 2813.5512081818183,\n 2814.361324545455,\n 2815.3748836363634,\n 2814.246913636363,\n 2814.772734545455,\n 2814.081759090909,\n 2812.9261672727266,\n 1851.1761387878785,\n 1850.8875163636367,\n 1850.9560654545453,\n 1850.9009872727272,\n 1850.594541212121,\n 1850.7208442424242,\n 1851.2107987878787,\n 1850.7948575757578,\n 1850.945246060606,\n 1850.9178036363633,\n 1374.8807959090907,\n 1374.665694090909,\n 1374.3608854545455,\n 1374.7534677272727,\n 1374.7058654545453,\n 1374.579864090909,\n 1374.2567763636364,\n 1374.2401599999998,\n 1374.2417759090908,\n 1374.5383463636363,\n 1091.8395258181818,\n 1091.2655141818182,\n 1091.3618847272728,\n 1091.9308534545455,\n 1091.814634909091,\n 1091.5722123636363,\n 1092.1537516363635,\n 1091.241808,\n 1091.5172098181815,\n 1090.8911621818183,\n 14975.565499999999,\n 14951.428327272726,\n 14951.260909090912,\n 14951.492613636365,\n 14951.163381818185,\n 14951.304636363637,\n 14951.138868181819,\n 14951.53132272727,\n 14951.15315,\n 14951.200004545453,\n 904.2929275757576,\n 904.2791548484848,\n 904.4617978787878,\n 904.1320148484848,\n 904.3061215151514,\n 903.994439090909,\n 904.2320715151516,\n 903.939393030303,\n 903.8561327272728,\n 904.3516596969697,\n 771.3442420779221,\n 771.6091433766233,\n 770.8370228571429,\n 771.1685057142856,\n 770.8481166233767,\n 771.2715800000001,\n 770.6774150649351,\n 770.7280618181818,\n 770.4299368831169,\n 771.1655462337662,\n 5755.891858181819,\n 5755.923245454545,\n 5755.962667272728,\n 5756.044045454545,\n 5755.943801818183,\n 5755.965565454545,\n 5756.08346,\n 5756.061012727272,\n 5755.85059090909,\n 5755.8901618181835]"
     },
     "execution_count": 21,
     "metadata": {},
     "output_type": "execute_result"
    }
   ],
   "source": [
    "avg_inertias"
   ],
   "metadata": {
    "collapsed": false,
    "pycharm": {
     "name": "#%%\n"
    }
   }
  },
  {
   "cell_type": "code",
   "execution_count": 39,
   "outputs": [],
   "source": [
    "avg_inertias2 = np.around(np.array(avg_inertias)/1000,decimals=4)"
   ],
   "metadata": {
    "collapsed": false,
    "pycharm": {
     "name": "#%%\n"
    }
   }
  },
  {
   "cell_type": "code",
   "execution_count": 40,
   "outputs": [
    {
     "data": {
      "text/plain": "array([ 2.8124,  2.8128,  2.8144,  2.8136,  2.8144,  2.8154,  2.8142,\n        2.8148,  2.8141,  2.8129,  1.8512,  1.8509,  1.851 ,  1.8509,\n        1.8506,  1.8507,  1.8512,  1.8508,  1.8509,  1.8509,  1.3749,\n        1.3747,  1.3744,  1.3748,  1.3747,  1.3746,  1.3743,  1.3742,\n        1.3742,  1.3745,  1.0918,  1.0913,  1.0914,  1.0919,  1.0918,\n        1.0916,  1.0922,  1.0912,  1.0915,  1.0909, 14.9756, 14.9514,\n       14.9513, 14.9515, 14.9512, 14.9513, 14.9511, 14.9515, 14.9512,\n       14.9512,  0.9043,  0.9043,  0.9045,  0.9041,  0.9043,  0.904 ,\n        0.9042,  0.9039,  0.9039,  0.9044,  0.7713,  0.7716,  0.7708,\n        0.7712,  0.7708,  0.7713,  0.7707,  0.7707,  0.7704,  0.7712,\n        5.7559,  5.7559,  5.756 ,  5.756 ,  5.7559,  5.756 ,  5.7561,\n        5.7561,  5.7559,  5.7559])"
     },
     "execution_count": 40,
     "metadata": {},
     "output_type": "execute_result"
    }
   ],
   "source": [
    "avg_inertias2"
   ],
   "metadata": {
    "collapsed": false,
    "pycharm": {
     "name": "#%%\n"
    }
   }
  },
  {
   "cell_type": "code",
   "execution_count": 24,
   "outputs": [
    {
     "data": {
      "text/plain": "array([10, 10, 10, 10, 10, 10, 10, 10, 10, 10, 15, 15, 15, 15, 15, 15, 15,\n       15, 15, 15, 20, 20, 20, 20, 20, 20, 20, 20, 20, 20, 25, 25, 25, 25,\n       25, 25, 25, 25, 25, 25,  2,  2,  2,  2,  2,  2,  2,  2,  2,  2, 30,\n       30, 30, 30, 30, 30, 30, 30, 30, 30, 35, 35, 35, 35, 35, 35, 35, 35,\n       35, 35,  5,  5,  5,  5,  5,  5,  5,  5,  5,  5])"
     },
     "execution_count": 24,
     "metadata": {},
     "output_type": "execute_result"
    }
   ],
   "source": [
    "np.array(cluster_nums)"
   ],
   "metadata": {
    "collapsed": false,
    "pycharm": {
     "name": "#%%\n"
    }
   }
  },
  {
   "cell_type": "code",
   "execution_count": 25,
   "outputs": [],
   "source": [
    "avg_inertias3 = [x for _,x in sorted(zip(cluster_nums,avg_inertias2))]\n",
    "cluster_nums2 = sorted(cluster_nums)"
   ],
   "metadata": {
    "collapsed": false,
    "pycharm": {
     "name": "#%%\n"
    }
   }
  },
  {
   "cell_type": "code",
   "execution_count": 38,
   "outputs": [
    {
     "data": {
      "text/plain": "<Figure size 432x360 with 1 Axes>",
      "image/png": "[encoded data removed]"
     },
     "metadata": {
      "needs_background": "light"
     },
     "output_type": "display_data"
    }
   ],
   "source": [
    "fig,ax=plt.subplots(figsize=(6,5))\n",
    "ax.scatter(cluster_nums,avg_inertias2,c='r',marker='o',s=50)\n",
    "ax.plot(cluster_nums2,avg_inertias3,c='r')\n",
    "plt.xticks(fontsize=14)\n",
    "plt.yticks(fontsize=14)\n",
    "ax.set_yticks([0,5,10,15])\n",
    "ax.set_xlabel('number of clusters', fontsize=20)\n",
    "ax.set_ylabel('inertia', fontsize=20)\n",
    "fig.savefig('test.svg', format='svg')"
   ],
   "metadata": {
    "collapsed": false,
    "pycharm": {
     "name": "#%%\n"
    }
   }
  }
 ],
 "metadata": {
  "kernelspec": {
   "display_name": "Python 3",
   "language": "python",
   "name": "python3"
  },
  "language_info": {
   "codemirror_mode": {
    "name": "ipython",
    "version": 2
   },
   "file_extension": ".py",
   "mimetype": "text/x-python",
   "name": "python",
   "nbconvert_exporter": "python",
   "pygments_lexer": "ipython2",
   "version": "2.7.6"
  }
 },
 "nbformat": 4,
 "nbformat_minor": 0
}