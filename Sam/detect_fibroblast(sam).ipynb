{
 "cells": [
  {
   "cell_type": "code",
   "execution_count": 3,
   "outputs": [
    {
     "ename": "FileNotFoundError",
     "evalue": "[WinError 3] The system cannot find the path specified: 'C:\\\\Users\\\\kyuha\\\\PycharmProjects\\\\TeamKyu\\\\Sam'",
     "output_type": "error",
     "traceback": [
      "\u001B[1;31m---------------------------------------------------------------------------\u001B[0m",
      "\u001B[1;31mFileNotFoundError\u001B[0m                         Traceback (most recent call last)",
      "\u001B[1;32m<ipython-input-3-2cf94b6fbb75>\u001B[0m in \u001B[0;36m<module>\u001B[1;34m\u001B[0m\n\u001B[0;32m     12\u001B[0m \u001B[1;32mfrom\u001B[0m \u001B[0msklearn\u001B[0m\u001B[1;33m.\u001B[0m\u001B[0mneighbors\u001B[0m \u001B[1;32mimport\u001B[0m \u001B[0mNearestNeighbors\u001B[0m\u001B[1;33m\u001B[0m\u001B[1;33m\u001B[0m\u001B[0m\n\u001B[0;32m     13\u001B[0m \u001B[1;31m# custom function\u001B[0m\u001B[1;33m\u001B[0m\u001B[1;33m\u001B[0m\u001B[1;33m\u001B[0m\u001B[0m\n\u001B[1;32m---> 14\u001B[1;33m \u001B[1;32mfrom\u001B[0m \u001B[0mxml2mask\u001B[0m \u001B[1;32mimport\u001B[0m \u001B[0mxml2mask\u001B[0m\u001B[1;33m\u001B[0m\u001B[1;33m\u001B[0m\u001B[0m\n\u001B[0m\u001B[0;32m     15\u001B[0m \u001B[1;32mfrom\u001B[0m \u001B[0mrgb2hed_v1\u001B[0m \u001B[1;32mimport\u001B[0m \u001B[0mseparate_stains\u001B[0m\u001B[1;33m\u001B[0m\u001B[1;33m\u001B[0m\u001B[0m\n\u001B[0;32m     16\u001B[0m \u001B[1;32mfrom\u001B[0m \u001B[0mPIL\u001B[0m \u001B[1;32mimport\u001B[0m \u001B[0mImage\u001B[0m\u001B[1;33m\u001B[0m\u001B[1;33m\u001B[0m\u001B[0m\n",
      "\u001B[1;32m~\\PycharmProjects\\TeamKyu\\Sam\\xml2mask.py\u001B[0m in \u001B[0;36m<module>\u001B[1;34m\u001B[0m\n\u001B[0;32m      4\u001B[0m \u001B[1;32mfrom\u001B[0m \u001B[0mopenslide\u001B[0m \u001B[1;32mimport\u001B[0m \u001B[0mOpenSlide\u001B[0m\u001B[1;33m\u001B[0m\u001B[1;33m\u001B[0m\u001B[0m\n\u001B[0;32m      5\u001B[0m \u001B[1;32mimport\u001B[0m \u001B[0mcv2\u001B[0m\u001B[1;33m\u001B[0m\u001B[1;33m\u001B[0m\u001B[0m\n\u001B[1;32m----> 6\u001B[1;33m \u001B[1;32mfrom\u001B[0m \u001B[0mread_xml\u001B[0m \u001B[1;32mimport\u001B[0m \u001B[0mxml2mat\u001B[0m\u001B[1;33m\u001B[0m\u001B[1;33m\u001B[0m\u001B[0m\n\u001B[0m\u001B[0;32m      7\u001B[0m \u001B[1;32mfrom\u001B[0m \u001B[0mPIL\u001B[0m \u001B[1;32mimport\u001B[0m \u001B[0mImage\u001B[0m\u001B[1;33m\u001B[0m\u001B[1;33m\u001B[0m\u001B[0m\n\u001B[0;32m      8\u001B[0m \u001B[1;33m\u001B[0m\u001B[0m\n",
      "\u001B[1;32m~\\PycharmProjects\\TeamKyu\\Sam\\read_xml.py\u001B[0m in \u001B[0;36m<module>\u001B[1;34m\u001B[0m\n\u001B[0;32m     28\u001B[0m \u001B[1;33m\u001B[0m\u001B[0m\n\u001B[0;32m     29\u001B[0m \u001B[0mdir\u001B[0m \u001B[1;33m=\u001B[0m \u001B[1;34mr'C:\\Users\\kyuha\\PycharmProjects\\TeamKyu\\Sam'\u001B[0m\u001B[1;33m\u001B[0m\u001B[1;33m\u001B[0m\u001B[0m\n\u001B[1;32m---> 30\u001B[1;33m \u001B[0mxmls\u001B[0m \u001B[1;33m=\u001B[0m \u001B[1;33m[\u001B[0m\u001B[0mos\u001B[0m\u001B[1;33m.\u001B[0m\u001B[0mpath\u001B[0m\u001B[1;33m.\u001B[0m\u001B[0mjoin\u001B[0m\u001B[1;33m(\u001B[0m\u001B[0mdir\u001B[0m\u001B[1;33m,\u001B[0m\u001B[0m_\u001B[0m\u001B[1;33m)\u001B[0m \u001B[1;32mfor\u001B[0m \u001B[0m_\u001B[0m \u001B[1;32min\u001B[0m \u001B[0mos\u001B[0m\u001B[1;33m.\u001B[0m\u001B[0mlistdir\u001B[0m\u001B[1;33m(\u001B[0m\u001B[0mdir\u001B[0m\u001B[1;33m)\u001B[0m \u001B[1;32mif\u001B[0m \u001B[0m_\u001B[0m\u001B[1;33m.\u001B[0m\u001B[0mendswith\u001B[0m\u001B[1;33m(\u001B[0m\u001B[1;34m'.xml'\u001B[0m\u001B[1;33m)\u001B[0m\u001B[1;33m]\u001B[0m\u001B[1;33m\u001B[0m\u001B[1;33m\u001B[0m\u001B[0m\n\u001B[0m\u001B[0;32m     31\u001B[0m \u001B[1;32mfor\u001B[0m \u001B[0mxml\u001B[0m \u001B[1;32min\u001B[0m \u001B[0mxmls\u001B[0m\u001B[1;33m:\u001B[0m\u001B[1;33m\u001B[0m\u001B[1;33m\u001B[0m\u001B[0m\n\u001B[0;32m     32\u001B[0m    \u001B[0mmdict\u001B[0m \u001B[1;33m=\u001B[0m \u001B[0mxml2mat\u001B[0m\u001B[1;33m(\u001B[0m\u001B[0mxml\u001B[0m\u001B[1;33m)\u001B[0m\u001B[1;33m\u001B[0m\u001B[1;33m\u001B[0m\u001B[0m\n",
      "\u001B[1;31mFileNotFoundError\u001B[0m: [WinError 3] The system cannot find the path specified: 'C:\\\\Users\\\\kyuha\\\\PycharmProjects\\\\TeamKyu\\\\Sam'"
     ]
    }
   ],
   "source": [
    "import os\n",
    "from time import time\n",
    "import numpy as np\n",
    "import scipy\n",
    "from scipy import linalg\n",
    "from matplotlib import pyplot as plt\n",
    "from joblib import Parallel, delayed, cpu_count\n",
    "# image processing\n",
    "import cv2\n",
    "from skimage.measure import label,find_contours,regionprops\n",
    "from skimage.morphology import remove_small_objects\n",
    "from sklearn.neighbors import NearestNeighbors\n",
    "# custom function\n",
    "from xml2mask import xml2mask\n",
    "from rgb2hed_v1 import separate_stains\n",
    "from PIL import Image\n",
    "from copy import deepcopy"
   ],
   "metadata": {
    "collapsed": false,
    "pycharm": {
     "name": "#%%\n"
    }
   }
  },
  {
   "cell_type": "code",
   "execution_count": null,
   "outputs": [],
   "source": [
    "svs_src = r'\\\\motherserverdw\\Kyu_Sync\\Aging\\data\\svs'\n",
    "fns = [os.path.splitext(_)[0] for _ in os.listdir(svs_src) if _.lower().endswith('svs')]\n",
    "dst = os.path.join(svs_src,'roi')"
   ],
   "metadata": {
    "collapsed": false,
    "pycharm": {
     "name": "#%%\n"
    }
   }
  },
  {
   "cell_type": "code",
   "execution_count": null,
   "outputs": [],
   "source": [
    "for fn in fns[0:1]:\n",
    "    rois = []\n",
    "    rois = xml2mask(svs_src,fns,dst)\n"
   ],
   "metadata": {
    "collapsed": false,
    "pycharm": {
     "name": "#%%\n"
    }
   }
  },
  {
   "cell_type": "code",
   "execution_count": null,
   "outputs": [],
   "source": [
    "# for regionidx,region in enumerate(rois):\n",
    "region = rois #[0]\n",
    "regionidx = 0"
   ],
   "metadata": {
    "collapsed": false,
    "pycharm": {
     "name": "#%%\n"
    }
   }
  },
  {
   "cell_type": "code",
   "execution_count": null,
   "outputs": [],
   "source": [
    "plt.figure(figsize=(12,12))\n",
    "plt.imshow(region)"
   ],
   "metadata": {
    "collapsed": false,
    "pycharm": {
     "name": "#%%\n"
    }
   }
  },
  {
   "cell_type": "code",
   "execution_count": null,
   "outputs": [],
   "source": [
    "# RGB to Haematoxylin-Eosin-DAB (HED) color space conversion.\n",
    "# Hematoxylin + Eosin + DAB\n",
    "start=time()\n",
    "# rgb_from_hed = np.array([[0.650, 0.704, 0.286],\n",
    "#                          [0.072, 0.990, 0.105],\n",
    "#                          [0.268, 0.570, 0.776]])\n",
    "# hed_from_rgb = scipy.linalg.inv(rgb_from_hed)\n",
    "\n",
    "rgb_from_hed = np.array([[0.650, 0.704, 0.286],\n",
    "                         [0.072, 0.990, 0.105],\n",
    "                         [0.0, 0.0, 0.0]])\n",
    "rgb_from_hed[2, :] = np.cross(rgb_from_hed[0, :], rgb_from_hed[1, :])\n",
    "hed_from_rgb = linalg.inv(rgb_from_hed)\n",
    "Hema = separate_stains(region, hed_from_rgb)[:, :, 0]\n",
    "print(\"color deconvolution: {:.2f} sec elapsed\".format(time()-start))"
   ],
   "metadata": {
    "collapsed": false,
    "pycharm": {
     "name": "#%%\n"
    }
   }
  },
  {
   "cell_type": "code",
   "execution_count": null,
   "outputs": [],
   "source": [
    "# remove this for production mode #######################\n",
    "fig, axes = plt.subplots(1, 2, figsize=(24, 12), sharex=True, sharey=True)\n",
    "\n",
    "a=0*1000\n",
    "b=4*1000\n",
    "c=0*1000\n",
    "d=4*1000\n",
    "\n",
    "ax = axes.ravel()\n",
    "ax[0].imshow(region[a:b,c:d])\n",
    "ax[0].set_title(\"Original image\")\n",
    "\n",
    "ax[1].imshow(Hema[a:b,c:d], cmap='gray')\n",
    "ax[1].set_title(\"ED\")\n",
    "\n",
    "for aa in ax.ravel():\n",
    "    aa.axis('off')\n",
    "\n",
    "fig.tight_layout()"
   ],
   "metadata": {
    "collapsed": false,
    "pycharm": {
     "name": "#%%\n"
    }
   }
  },
  {
   "cell_type": "code",
   "execution_count": null,
   "outputs": [],
   "source": [
    "# normalize image between 0 to 1\n",
    "Hematoxylin = cv2.normalize(Hema[a:b,c:d], None, alpha=0, beta=255, norm_type=cv2.NORM_MINMAX, dtype=cv2.CV_32F)"
   ],
   "metadata": {
    "collapsed": false,
    "pycharm": {
     "name": "#%%\n"
    }
   }
  },
  {
   "cell_type": "code",
   "execution_count": null,
   "outputs": [],
   "source": [
    "vectorized = Hematoxylin.reshape((-1,1))\n",
    "vectorized = np.float32(vectorized)\n",
    "criteria = (cv2.TERM_CRITERIA_EPS + cv2.TERM_CRITERIA_MAX_ITER, 10, 1.0)\n",
    "K = 8\n",
    "attempts=10\n",
    "ret,Klabel,center=cv2.kmeans(vectorized,K,None,criteria,attempts,cv2.KMEANS_PP_CENTERS)\n",
    "center = np.uint8(center)"
   ],
   "metadata": {
    "collapsed": false,
    "pycharm": {
     "name": "#%%\n"
    }
   }
  },
  {
   "cell_type": "code",
   "execution_count": null,
   "outputs": [],
   "source": [
    "Kmean_pixels = []\n",
    "for i in range(K):\n",
    "    Klabel2 = deepcopy(Klabel)\n",
    "    Klabel2[Klabel2!=i]=0\n",
    "    res = center[Klabel2.flatten()]\n",
    "    result_image = res.reshape((Hematoxylin.shape))\n",
    "    Kmean_pixels.append(np.unique(result_image)[-1])\n",
    "\n",
    "\n",
    "\n"
   ],
   "metadata": {
    "collapsed": false,
    "pycharm": {
     "name": "#%%\n"
    }
   }
  },
  {
   "cell_type": "code",
   "execution_count": null,
   "outputs": [],
   "source": [
    "fig, axes = plt.subplots(3, 3, figsize=(24, 24), sharex=True, sharey=True)\n",
    "ax = axes.ravel()\n",
    "\n",
    "ax[0].imshow(Hematoxylin[2000:3000,2000:3000],cmap='gray')\n",
    "ax[0].set_title(\"Original image\")\n",
    "\n",
    "for idx,aa in enumerate(ax[1:]):\n",
    "    Klabel2 = deepcopy(Klabel)\n",
    "    Klabel2[Klabel2!=idx]=0\n",
    "    res = center[Klabel2.flatten()]\n",
    "    result_image = res.reshape((Hematoxylin.shape))\n",
    "    print(np.unique(result_image)[-1])\n",
    "    aa.imshow(result_image[2000:3000,2000:3000],cmap='gray')\n",
    "    aa.set_title(\"K={:d}\".format(idx+1))\n",
    "\n",
    "for aa in ax.ravel():\n",
    "    aa.axis('off')"
   ],
   "metadata": {
    "collapsed": false,
    "pycharm": {
     "name": "#%%\n"
    }
   }
  },
  {
   "cell_type": "code",
   "execution_count": null,
   "outputs": [],
   "source": [
    "plt.figure(figsize=(12,12))\n",
    "plt.imshow(Hematoxylin, cmap='gray')"
   ],
   "metadata": {
    "collapsed": false,
    "pycharm": {
     "name": "#%%\n"
    }
   }
  },
  {
   "cell_type": "code",
   "execution_count": null,
   "outputs": [],
   "source": [
    "Hematoxylin_temp = deepcopy(Hematoxylin)"
   ],
   "metadata": {
    "collapsed": false,
    "pycharm": {
     "name": "#%%\n"
    }
   }
  },
  {
   "cell_type": "code",
   "execution_count": null,
   "outputs": [],
   "source": [
    "# plt.figure(figsize=(12,12))\n",
    "# a = Hematoxylin[4000:6000,6000:8000]\n",
    "# b = a[700:900,1500:1700]\n",
    "# plt.imshow(b, cmap='gray')\n",
    "# plt.hist(b)"
   ],
   "metadata": {
    "collapsed": false,
    "pycharm": {
     "name": "#%%\n"
    }
   }
  },
  {
   "cell_type": "code",
   "execution_count": null,
   "outputs": [],
   "source": [
    "#1 intensity thresholding\n",
    "threshold = 100\n",
    "Hematoxylin_temp[Hematoxylin<threshold]=0\n",
    "Hematoxylin_temp[Hematoxylin>threshold]=1\n",
    "plt.figure(figsize=(12,12))\n",
    "plt.imshow(Hematoxylin_temp, cmap='gray')"
   ],
   "metadata": {
    "collapsed": false,
    "pycharm": {
     "name": "#%%\n"
    }
   }
  },
  {
   "cell_type": "code",
   "execution_count": null,
   "outputs": [],
   "source": [
    "Hematoxylin = Hematoxylin_temp"
   ],
   "metadata": {
    "collapsed": false,
    "pycharm": {
     "name": "#%%\n"
    }
   }
  },
  {
   "cell_type": "code",
   "execution_count": null,
   "outputs": [],
   "source": [
    "# label the objects\n",
    "labeled_bw = label(Hematoxylin)\n",
    "fig,ax=plt.subplots(1,2,figsize=(20,10))\n",
    "ax[0].imshow(region[a:b,c:d],cmap='gray')\n",
    "bw = (labeled_bw>0)*1\n",
    "ax[1].imshow(bw[a:b,c:d],cmap='gray')"
   ],
   "metadata": {
    "collapsed": false,
    "pycharm": {
     "name": "#%%\n"
    }
   }
  },
  {
   "cell_type": "code",
   "execution_count": null,
   "outputs": [],
   "source": [
    "# before size filter\n",
    "start=time()\n",
    "prop = regionprops(labeled_bw)\n",
    "area = [np.sum(x._label_image[x._slice] == x.label) for x in prop]\n",
    "# narrow down field of view to cells under size 50\n",
    "area = np.array(area)\n",
    "area = area[area<50]\n",
    "# area2 = Parallel(n_jobs=-4, prefer=\"threads\")(delayed(np.sum)(x._label_image[x._slice] == x.label) for x in prop2)\n",
    "print(\"{:.2f} sec elapsed\".format(time()-start))\n",
    "plt.hist(area,bins=100)\n",
    "plt.title('Area',fontsize=30)"
   ],
   "metadata": {
    "collapsed": false,
    "pycharm": {
     "name": "#%%\n"
    }
   }
  },
  {
   "cell_type": "code",
   "execution_count": null,
   "outputs": [],
   "source": [
    "#2 size filter\n",
    "start=time()\n",
    "labeled_bw_temp = deepcopy(labeled_bw)\n",
    "remove_small_objects(labeled_bw_temp,min_size=30,connectivity=1,in_place=True)\n",
    "print(\"{:.2f} sec elapsed\".format(time()-start))\n",
    "#plot the result\n",
    "fig,ax=plt.subplots(1,2,figsize=(20,10))\n",
    "ax[0].imshow(region[a:b,c:d],cmap='gray')\n",
    "bw = (labeled_bw_temp>0)*1\n",
    "ax[1].imshow(bw[a:b,c:d],cmap='gray')"
   ],
   "metadata": {
    "collapsed": false,
    "pycharm": {
     "name": "#%%\n"
    }
   }
  },
  {
   "cell_type": "code",
   "execution_count": null,
   "outputs": [],
   "source": [
    "labeled_bw=labeled_bw_temp\n",
    "# after size filter\n",
    "start=time()\n",
    "prop = regionprops(labeled_bw)\n",
    "area = [np.sum(x._label_image[x._slice] == x.label) for x in prop]\n",
    "# area = Parallel(n_jobs=-1, prefer=\"threads\")(delayed(np.sum)(x._label_image[x._slice] == x.label) for x in prop2)\n",
    "print(\"{:.2f} sec elapsed\".format(time()-start))\n",
    "plt.hist(area,bins=100)\n",
    "plt.xlim([0,200])\n",
    "plt.title('Area',fontsize=30)"
   ],
   "metadata": {
    "collapsed": false,
    "pycharm": {
     "name": "#%%\n"
    }
   }
  },
  {
   "cell_type": "code",
   "execution_count": null,
   "outputs": [],
   "source": [
    "# before AR filter\n",
    "start=time()\n",
    "prop = regionprops(labeled_bw)\n",
    "labels = [_.label for _ in prop]\n",
    "ARs = [_['major_axis_length']/_['minor_axis_length'] if (_['minor_axis_length']!=0) else 1 for _ in prop]\n",
    "# def regionar(x):\n",
    "#     return x['major_axis_length']/x['minor_axis_length']\n",
    "# ARs = Parallel(n_jobs=-4, prefer=\"threads\")(delayed(regionar)(x) for x in prop)\n",
    "print(\"{:.2f} sec elapsed\".format(time()-start))\n",
    "plt.hist(ARs,bins=100)\n",
    "plt.xlim([0,3])\n",
    "plt.title('Aspect Ratio',fontsize=30)"
   ],
   "metadata": {
    "collapsed": false,
    "pycharm": {
     "name": "#%%\n"
    }
   }
  },
  {
   "cell_type": "code",
   "execution_count": null,
   "outputs": [],
   "source": [
    "labeled_bw_temp = deepcopy(labeled_bw)"
   ],
   "metadata": {
    "collapsed": false,
    "pycharm": {
     "name": "#%%\n"
    }
   }
  },
  {
   "cell_type": "code",
   "execution_count": null,
   "outputs": [],
   "source": [
    "bw = (labeled_bw_temp>0)*1\n",
    "plt.figure(figsize=(12,12))\n",
    "plt.imshow(bw[a:b,c:d],cmap='gray')"
   ],
   "metadata": {
    "collapsed": false,
    "pycharm": {
     "name": "#%%\n"
    }
   }
  },
  {
   "cell_type": "code",
   "execution_count": null,
   "outputs": [],
   "source": [
    "len(np.unique(labeled_bw_temp))"
   ],
   "metadata": {
    "collapsed": false,
    "pycharm": {
     "name": "#%%\n"
    }
   }
  },
  {
   "cell_type": "code",
   "execution_count": null,
   "outputs": [],
   "source": [
    "#3 AR filter\n",
    "minAR = 2.5\n",
    "maxAR = 15\n",
    "start=time()\n",
    "# def ARfilter(label,AR):\n",
    "#     if AR<minAR: labeled_bw_temp[labeled_bw==label]=0\n",
    "#     if AR>maxAR: labeled_bw_temp[labeled_bw==label]=0\n",
    "# Parallel(n_jobs=-4,prefer=\"threads\")(delayed(ARfilter)(label,AR) for label,AR in zip(labels,ARs))\n",
    "# for label,AR in zip(labels,ARs):\n",
    "#     if AR<minAR: labeled_bw_temp[labeled_bw==label]=0\n",
    "#     if AR>maxAR: labeled_bw_temp[labeled_bw==label]=0\n",
    "props = regionprops(labeled_bw_temp)\n",
    "for idx,prop in enumerate(props):\n",
    "    if idx%100==0: print(idx)\n",
    "    if (prop['minor_axis_length']!=0): AR = prop['major_axis_length']/prop['minor_axis_length']\n",
    "    else: AR=0\n",
    "    if AR<minAR: labeled_bw_temp[labeled_bw_temp==prop.label]=0\n",
    "    if AR>maxAR: labeled_bw_temp[labeled_bw_temp==prop.label]=0\n",
    "print(\"{:.2f} sec elapsed\".format(time()-start))"
   ],
   "metadata": {
    "collapsed": false,
    "pycharm": {
     "name": "#%%\n"
    }
   }
  },
  {
   "cell_type": "code",
   "execution_count": null,
   "outputs": [],
   "source": [
    "# after AR filter\n",
    "prop = regionprops(labeled_bw_temp)\n",
    "ARs = [_['major_axis_length']/_['minor_axis_length'] for _ in prop]\n",
    "plt.hist(ARs,bins=100)\n",
    "plt.title('Aspect Ratio',fontsize=30)"
   ],
   "metadata": {
    "collapsed": false,
    "pycharm": {
     "name": "#%%\n"
    }
   }
  },
  {
   "cell_type": "code",
   "execution_count": null,
   "outputs": [],
   "source": [
    "labeled_bw = labeled_bw_temp"
   ],
   "metadata": {
    "collapsed": false,
    "pycharm": {
     "name": "#%%\n"
    }
   }
  },
  {
   "cell_type": "code",
   "execution_count": null,
   "outputs": [],
   "source": [
    "# before SF filter\n",
    "SFs = [4*np.pi*_['area']/_['perimeter']**2 for _ in prop]\n",
    "plt.hist(SFs,bins=100)\n",
    "plt.title('Circularity',fontsize=30)"
   ],
   "metadata": {
    "collapsed": false,
    "pycharm": {
     "name": "#%%\n"
    }
   }
  },
  {
   "cell_type": "code",
   "execution_count": null,
   "outputs": [],
   "source": [
    "labeled_bw_temp = deepcopy(labeled_bw)"
   ],
   "metadata": {
    "collapsed": false,
    "pycharm": {
     "name": "#%%\n"
    }
   }
  },
  {
   "cell_type": "code",
   "execution_count": null,
   "outputs": [],
   "source": [
    "#4 SF filter (keep cells in the range)\n",
    "minSF = 0.1\n",
    "maxSF = 0.7\n",
    "for prop in regionprops(labeled_bw):\n",
    "    SF = 4*np.pi*prop['area']/prop['perimeter']**2\n",
    "    if SF<minSF: labeled_bw_temp[labeled_bw==prop.label]=0;\n",
    "    if SF>maxSF: labeled_bw_temp[labeled_bw==prop.label]=0;"
   ],
   "metadata": {
    "collapsed": false,
    "pycharm": {
     "name": "#%%\n"
    }
   }
  },
  {
   "cell_type": "code",
   "execution_count": null,
   "outputs": [],
   "source": [
    "# after SF filter\n",
    "prop = regionprops(labeled_bw_temp)\n",
    "SFs = [4*np.pi*_['area']/_['perimeter']**2 for _ in prop]\n",
    "plt.hist(SFs,bins=100)\n",
    "plt.title('Circularity',fontsize=30)"
   ],
   "metadata": {
    "collapsed": false,
    "pycharm": {
     "name": "#%%\n"
    }
   }
  },
  {
   "cell_type": "code",
   "execution_count": null,
   "outputs": [],
   "source": [
    "labeled_bw = labeled_bw_temp"
   ],
   "metadata": {
    "collapsed": false,
    "pycharm": {
     "name": "#%%\n"
    }
   }
  },
  {
   "cell_type": "code",
   "execution_count": null,
   "outputs": [],
   "source": [
    "fig,ax=plt.subplots(1,2,figsize=(20,10))\n",
    "ax[0].imshow(region[a:b,c:d],cmap='gray')\n",
    "bw = (labeled_bw>0)*1 # *1 to switch dtype from bool to int32\n",
    "ax[1].imshow(bw[a:b,c:d],cmap='gray')"
   ],
   "metadata": {
    "collapsed": false,
    "pycharm": {
     "name": "#%%\n"
    }
   }
  },
  {
   "cell_type": "code",
   "execution_count": null,
   "outputs": [],
   "source": [
    "bw = (labeled_bw>0)*255\n",
    "bw_img = Image.fromarray(bw).convert('1')\n",
    "bw_img.save(os.path.join(dst,fn+'_bw_{:d}.tif'.format(regionidx)))"
   ],
   "metadata": {
    "collapsed": false,
    "pycharm": {
     "name": "#%%\n"
    }
   }
  },
  {
   "cell_type": "code",
   "execution_count": null,
   "outputs": [],
   "source": [
    "labeled_bw_temp = deepcopy(labeled_bw)"
   ],
   "metadata": {
    "collapsed": false,
    "pycharm": {
     "name": "#%%\n"
    }
   }
  },
  {
   "cell_type": "code",
   "execution_count": null,
   "outputs": [],
   "source": [
    "#distance filter\n",
    "min_dist_to_neighbor = 100\n",
    "Y = [_.centroid for _ in prop]\n",
    "nbrs = NearestNeighbors(n_neighbors=2, algorithm='ball_tree').fit(Y)\n",
    "distances, indices = nbrs.kneighbors(Y)\n",
    "close_objects = np.array(prop)[distances[:,1]<min_dist_to_neighbor]\n",
    "for close_object in close_objects:\n",
    "    labeled_bw_temp[labeled_bw_temp==close_object.label]=0"
   ],
   "metadata": {
    "collapsed": false,
    "pycharm": {
     "name": "#%%\n"
    }
   }
  },
  {
   "cell_type": "code",
   "execution_count": null,
   "outputs": [],
   "source": [
    "labeled_bw = labeled_bw_temp"
   ],
   "metadata": {
    "collapsed": false,
    "pycharm": {
     "name": "#%%\n"
    }
   }
  },
  {
   "cell_type": "code",
   "execution_count": null,
   "outputs": [],
   "source": [
    "fig,ax=plt.subplots(1,2,figsize=(20,10))\n",
    "ax[0].imshow(region[a:b,c:d],cmap='gray')\n",
    "bw= (labeled_bw>0)*255\n",
    "ax[1].imshow(bw[a:b,c:d],cmap='gray')"
   ],
   "metadata": {
    "collapsed": false,
    "pycharm": {
     "name": "#%%\n"
    }
   }
  },
  {
   "cell_type": "code",
   "execution_count": null,
   "outputs": [],
   "source": [
    "bw_img = Image.fromarray(bw).convert('1')\n",
    "bw_img.save(os.path.join(dst,fn+'_bw_far_{:d}.tif'.format(regionidx)))"
   ],
   "metadata": {
    "collapsed": false,
    "pycharm": {
     "name": "#%%\n"
    }
   }
  },
  {
   "cell_type": "code",
   "execution_count": null,
   "outputs": [],
   "source": [
    "# get centroid of each nucleus using regionprop function\n",
    "# create subfolder to save the crops\n",
    "props = regionprops(bw)\n",
    "for idx,prop in enumerate(props):\n",
    "    centroid = prop['centroid']\n",
    "    l,r,t,b = (centroid[0]-48,centroid[0]+48,centroid[1]-48,centroid[1]+48)\n",
    "    croprgb = region[l,r,t,b]\n",
    "    cropbw = bw[l,r,t,b]\n",
    "    croprgb_im = Image.fromarray(croprgb)\n",
    "    cropbw_im = Image.fromarray(cropbw)\n",
    "    croprgb_im.save('waifko{:d}.tif'.format(idx))\n",
    "    cropbw_im.save('sdaafvk.tif')\n"
   ],
   "metadata": {
    "collapsed": false,
    "pycharm": {
     "name": "#%%\n"
    }
   }
  },
  {
   "cell_type": "code",
   "execution_count": null,
   "outputs": [],
   "source": [
    "import pandas as pd\n",
    "prop = regionprops(labeled_bw)\n",
    "xs = [np.around(_['centroid'][0]) for _ in prop]\n",
    "ys = [np.around(_['centroid'][1]) for _ in prop]\n",
    "area = [np.sum(x._label_image[x._slice] == x.label) for x in prop]\n",
    "ARs = [_['major_axis_length']/_['minor_axis_length'] for _ in prop]\n",
    "SFs = [4*np.pi*_['area']/_['perimeter']**2 for _ in prop]\n",
    "dict = {'x':xs,'y':ys,'area':area,'aspect_ratio':ARs,'circularity':SFs}\n",
    "df = pd.DataFrame(dict)\n",
    "df.to_csv(os.path.join(dst,fn+'_parameters_{:d}.csv'.format(regionidx)))"
   ],
   "metadata": {
    "collapsed": false,
    "pycharm": {
     "name": "#%%\n"
    }
   }
  }
 ],
 "metadata": {
  "kernelspec": {
   "name": "python3",
   "language": "python",
   "display_name": "Python 3"
  },
  "language_info": {
   "codemirror_mode": {
    "name": "ipython",
    "version": 2
   },
   "file_extension": ".py",
   "mimetype": "text/x-python",
   "name": "python",
   "nbconvert_exporter": "python",
   "pygments_lexer": "ipython2",
   "version": "2.7.6"
  }
 },
 "nbformat": 4,
 "nbformat_minor": 0
}