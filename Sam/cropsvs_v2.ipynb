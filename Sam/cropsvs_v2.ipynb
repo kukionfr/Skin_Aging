{
 "cells": [
  {
   "cell_type": "code",
   "execution_count": 1,
   "metadata": {
    "collapsed": true
   },
   "outputs": [],
   "source": [
    "import os\n",
    "from openslide import OpenSlide\n",
    "import cv2\n",
    "import xml.etree.ElementTree as ET\n",
    "import numpy as np\n",
    "import pandas as pd\n",
    "import openslide\n",
    "from PIL import Image\n",
    "import math\n"
   ]
  },
  {
   "cell_type": "code",
   "execution_count": 2,
   "outputs": [
    {
     "name": "stdout",
     "output_type": "stream",
     "text": [
      "<class 'str'>\n"
     ]
    },
    {
     "ename": "FileNotFoundError",
     "evalue": "[Errno 2] No such file or directory: '/home/kuki2070s2/PycharmProjects/TeamKyu/Michael/5619_Wirtz.Denis_OTS-19_5619-009.xml'",
     "output_type": "error",
     "traceback": [
      "\u001B[1;31m---------------------------------------------------------------------------\u001B[0m",
      "\u001B[1;31mFileNotFoundError\u001B[0m                         Traceback (most recent call last)",
      "\u001B[1;32m<ipython-input-2-d9ed53c65087>\u001B[0m in \u001B[0;36m<module>\u001B[1;34m\u001B[0m\n\u001B[0;32m     11\u001B[0m \u001B[0mxml\u001B[0m \u001B[1;33m=\u001B[0m \u001B[1;34m'/home/kuki2070s2/PycharmProjects/TeamKyu/Michael/5619_Wirtz.Denis_OTS-19_5619-009.xml'\u001B[0m\u001B[1;33m\u001B[0m\u001B[1;33m\u001B[0m\u001B[0m\n\u001B[0;32m     12\u001B[0m \u001B[1;33m\u001B[0m\u001B[0m\n\u001B[1;32m---> 13\u001B[1;33m \u001B[0mtree\u001B[0m \u001B[1;33m=\u001B[0m \u001B[0mET\u001B[0m\u001B[1;33m.\u001B[0m\u001B[0mparse\u001B[0m\u001B[1;33m(\u001B[0m\u001B[0mos\u001B[0m\u001B[1;33m.\u001B[0m\u001B[0mpath\u001B[0m\u001B[1;33m.\u001B[0m\u001B[0mjoin\u001B[0m\u001B[1;33m(\u001B[0m\u001B[0msrc\u001B[0m\u001B[1;33m,\u001B[0m\u001B[0mxml\u001B[0m\u001B[1;33m)\u001B[0m\u001B[1;33m)\u001B[0m\u001B[1;33m\u001B[0m\u001B[1;33m\u001B[0m\u001B[0m\n\u001B[0m\u001B[0;32m     14\u001B[0m \u001B[0mroot\u001B[0m \u001B[1;33m=\u001B[0m \u001B[0mtree\u001B[0m\u001B[1;33m.\u001B[0m\u001B[0mgetroot\u001B[0m\u001B[1;33m(\u001B[0m\u001B[1;33m)\u001B[0m\u001B[1;33m\u001B[0m\u001B[1;33m\u001B[0m\u001B[0m\n\u001B[0;32m     15\u001B[0m \u001B[1;31m# pre-allocate arrays of interest\u001B[0m\u001B[1;33m\u001B[0m\u001B[1;33m\u001B[0m\u001B[1;33m\u001B[0m\u001B[0m\n",
      "\u001B[1;32mc:\\users\\kuki\\anaconda3\\envs\\tf21\\lib\\xml\\etree\\ElementTree.py\u001B[0m in \u001B[0;36mparse\u001B[1;34m(source, parser)\u001B[0m\n\u001B[0;32m   1195\u001B[0m     \"\"\"\n\u001B[0;32m   1196\u001B[0m     \u001B[0mtree\u001B[0m \u001B[1;33m=\u001B[0m \u001B[0mElementTree\u001B[0m\u001B[1;33m(\u001B[0m\u001B[1;33m)\u001B[0m\u001B[1;33m\u001B[0m\u001B[1;33m\u001B[0m\u001B[0m\n\u001B[1;32m-> 1197\u001B[1;33m     \u001B[0mtree\u001B[0m\u001B[1;33m.\u001B[0m\u001B[0mparse\u001B[0m\u001B[1;33m(\u001B[0m\u001B[0msource\u001B[0m\u001B[1;33m,\u001B[0m \u001B[0mparser\u001B[0m\u001B[1;33m)\u001B[0m\u001B[1;33m\u001B[0m\u001B[1;33m\u001B[0m\u001B[0m\n\u001B[0m\u001B[0;32m   1198\u001B[0m     \u001B[1;32mreturn\u001B[0m \u001B[0mtree\u001B[0m\u001B[1;33m\u001B[0m\u001B[1;33m\u001B[0m\u001B[0m\n\u001B[0;32m   1199\u001B[0m \u001B[1;33m\u001B[0m\u001B[0m\n",
      "\u001B[1;32mc:\\users\\kuki\\anaconda3\\envs\\tf21\\lib\\xml\\etree\\ElementTree.py\u001B[0m in \u001B[0;36mparse\u001B[1;34m(self, source, parser)\u001B[0m\n\u001B[0;32m    585\u001B[0m         \u001B[0mclose_source\u001B[0m \u001B[1;33m=\u001B[0m \u001B[1;32mFalse\u001B[0m\u001B[1;33m\u001B[0m\u001B[1;33m\u001B[0m\u001B[0m\n\u001B[0;32m    586\u001B[0m         \u001B[1;32mif\u001B[0m \u001B[1;32mnot\u001B[0m \u001B[0mhasattr\u001B[0m\u001B[1;33m(\u001B[0m\u001B[0msource\u001B[0m\u001B[1;33m,\u001B[0m \u001B[1;34m\"read\"\u001B[0m\u001B[1;33m)\u001B[0m\u001B[1;33m:\u001B[0m\u001B[1;33m\u001B[0m\u001B[1;33m\u001B[0m\u001B[0m\n\u001B[1;32m--> 587\u001B[1;33m             \u001B[0msource\u001B[0m \u001B[1;33m=\u001B[0m \u001B[0mopen\u001B[0m\u001B[1;33m(\u001B[0m\u001B[0msource\u001B[0m\u001B[1;33m,\u001B[0m \u001B[1;34m\"rb\"\u001B[0m\u001B[1;33m)\u001B[0m\u001B[1;33m\u001B[0m\u001B[1;33m\u001B[0m\u001B[0m\n\u001B[0m\u001B[0;32m    588\u001B[0m             \u001B[0mclose_source\u001B[0m \u001B[1;33m=\u001B[0m \u001B[1;32mTrue\u001B[0m\u001B[1;33m\u001B[0m\u001B[1;33m\u001B[0m\u001B[0m\n\u001B[0;32m    589\u001B[0m         \u001B[1;32mtry\u001B[0m\u001B[1;33m:\u001B[0m\u001B[1;33m\u001B[0m\u001B[1;33m\u001B[0m\u001B[0m\n",
      "\u001B[1;31mFileNotFoundError\u001B[0m: [Errno 2] No such file or directory: '/home/kuki2070s2/PycharmProjects/TeamKyu/Michael/5619_Wirtz.Denis_OTS-19_5619-009.xml'"
     ]
    }
   ],
   "source": [
    "src = '/home/kuki2070s2/PycharmProjects/TeamKyu/Michael/5619_Wirtz.Denis_OTS-19_5619-009.svs'\n",
    "#svss = [_ for _ in os.listdir(src) if _.endswith('svs')]\n",
    "#svs = svss[0]\n",
    "svs = src\n",
    "print(type(src))\n",
    "\n",
    "\n",
    "#svs = OpenSlide(os.path.join(src,svs))\n",
    "\n",
    "# xmls = [_ for _ in os.listdir(src) if _.endswith('xml')]\n",
    "xml = '/home/kuki2070s2/PycharmProjects/TeamKyu/Michael/5619_Wirtz.Denis_OTS-19_5619-009.xml'\n",
    "\n",
    "tree = ET.parse(os.path.join(src,xml))\n",
    "root = tree.getroot()\n",
    "# pre-allocate arrays of interest\n",
    "x = np.array([])\n",
    "y = np.array([])\n",
    "obj = np.array([])\n",
    "label = np.array([])\n",
    "\n",
    "for Annotation in root.iter('Annotation'):\n",
    "  for Region in Annotation.iter('Region'):\n",
    "     xx = np.array([int(Vertex.get('X')) for Vertex in Region.iter('Vertex')])\n",
    "     yy = np.array([int(Vertex.get('Y')) for Vertex in Region.iter('Vertex')])\n",
    "     objj = np.array([int(Region.get('Id'))]*len(xx))\n",
    "     labell = np.array([int(Annotation.get('Id'))]*len(xx))\n",
    "     x = np.concatenate((x,xx),axis=None)\n",
    "     y = np.concatenate((y,yy),axis=None)\n",
    "     obj = np.concatenate((obj,objj),axis=None)\n",
    "     label = np.concatenate((label,labell),axis=None)\n",
    "print('number of coordinates in annotation : ',len(x))\n",
    "mdict = {'x':x,'y':y,'objID':obj,'label':label}\n",
    "df = pd.DataFrame(mdict)"
   ],
   "metadata": {
    "collapsed": false,
    "pycharm": {
     "name": "#%%\n"
    }
   }
  },
  {
   "cell_type": "code",
   "execution_count": 56,
   "outputs": [
    {
     "name": "stderr",
     "output_type": "stream",
     "text": [
      "/home/kuki2070s2/anaconda3/envs/TF2Shared/lib/python3.7/site-packages/ipykernel_launcher.py:4: UserWarning: Boolean Series key will be reindexed to match DataFrame index.\n",
      "  after removing the cwd from sys.path.\n"
     ]
    }
   ],
   "source": [
    "for classidx, classid in enumerate(np.unique(df['label'])[0:3]):\n",
    "    for objidx, objid in enumerate(np.unique(df['objID'])[0:3]):\n",
    "        #if np.isnan(classid) and np.isnan(classid) != True:\n",
    "            object = df[df['label']==classid][df['objID']==objid]\n",
    "            x = object['x']\n",
    "            y = object['y']\n",
    "            xmin = np.min(x)\n",
    "            xmax = np.max(x)\n",
    "            ymin = np.min(y)\n",
    "            ymax = np.max(y)\n",
    "            width = xmax-xmin\n",
    "            height = ymax - ymin\n",
    "            if np.isnan(width): continue\n",
    "            size = (int(width),int(height))\n",
    "            img= openslide.OpenSlide(svs)\n",
    "            region = np.array(img.read_region(location=(int(xmin),int(ymin)),level=0,size=size))\n",
    "            vert = np.array([[i-xmin,j-ymin] for i,j in zip(x,y)]).astype(np.int32)\n",
    "            mask = np.zeros((size[1],size[0]))\n",
    "            cv2.fillPoly(mask,[vert],color=255)\n",
    "            #mask = mask.astype(np.uint16)\n",
    "            #mask.save('class'+str(classidx)+'obj'+str(objidx)+'.tif')\n",
    "\n",
    "            #math = Image.fromarray(mask)\n",
    "            #mask_dst = '/home/kuki2070s2/PycharmProjects/TeamKyu/Sam/image_dst_tiles'\n",
    "            #mask_fn = 'class'+str(classidx)+'obj'+str(objidx)+'.tif'\n",
    "            #mask.save(os.path.join(mask_dst,mask_fn))\n",
    "            cv2.imwrite(('class'+str(classidx)+'obj'+str(objidx)+'.tif'), mask)\n",
    "            cv2.imwrite(('class'+str(classidx)+'obj'+str(objidx)+'.jpg'), region)\n",
    "            #region_fn = 'class'+str(classidx)+'obj'+str(objidx)+'.jpg'\n",
    "            #region.convert('RGB').save(os.path.join(mask_dst,region_fn))"
   ],
   "metadata": {
    "collapsed": false,
    "pycharm": {
     "name": "#%%\n"
    }
   }
  },
  {
   "cell_type": "code",
   "execution_count": 57,
   "outputs": [],
   "source": [
    "            #tiling\n",
    "            if np.min(mask.size) < 256:\n",
    "               x_centroid = np.sum(x)/len(x)\n",
    "               y_centroid = np.sum(y)/len(y)\n",
    "               \n",
    "                #for x in mask.size:\n",
    "                    #mask.size = int(round(x*factor))\n",
    "                mask.size = [int(round(factor*x)) for x in mask.size]\n",
    "                # mask.size.reverse()\n",
    "                region.size = [int(round(factor*x)) for x in region.size]\n",
    "            tiledim = (256,256)\n",
    "            offset = (256,256)\n",
    "            image = mask\n",
    "            image_shape = mask.shape\n",
    "\n",
    "            for i in range(int(math.ceil(image_shape[0]/(offset[1]*1.0)))):\n",
    "                for j in range(int(math.ceil(image_shape[1]/(offset[0]*1.0)))):\n",
    "                   #img[offset[1]*i:min(offset[1]*i+tile_size[1], img_shape[0]), offset[0]*j:min(offset[0]*j+tile_size[0], img_shape[1])]\n",
    "                    crop = image[offset[1]*i:min(offset[1]*i+tiledim[1],image_shape[0]), offset[0]*j:min(offset[0]*j+tiledim[0],image_shape[1])]\n",
    "                    cv2.imwrite(('class'+str(classidx)+'obj'+str(objidx)+\"mask\"+'.png'), crop)\n",
    "            image = region\n",
    "            image_shape = region.shape\n",
    "\n",
    "                    #crop_dst = '/home/kuki2070s2/PycharmProjects/TeamKyu/Sam/image_dst_tiles'\n",
    "                    #crop_fn = \"debug\"+\"_\"+str(j)+\".png\"\n",
    "                    #crop.save(os.path.join(crop_dst,crop_fn))\n",
    "\n",
    "            for i in range(int(math.ceil(mask_shape[0]/(offset[1]*1.0)))):\n",
    "                for j in range(int(math.ceil(mask_shape[1]/(offset[0]*1.0)))):\n",
    "                    crop = image[offset[1]*i:min(offset[1]*i+tiledim[1],image_shape[0]), offset[0]*j:min(offset[0]*j+tiledim[0],image_shape[1])]\n",
    "                    cv2.imwrite(('class'+str(classidx)+'obj'+str(objidx)+\"image\"+'.png'), crop)"
   ],
   "metadata": {
    "collapsed": false,
    "pycharm": {
     "name": "#%%\n"
    }
   }
  }
 ],
 "metadata": {
  "kernelspec": {
   "display_name": "Python 3",
   "language": "python",
   "name": "python3"
  },
  "language_info": {
   "codemirror_mode": {
    "name": "ipython",
    "version": 2
   },
   "file_extension": ".py",
   "mimetype": "text/x-python",
   "name": "python",
   "nbconvert_exporter": "python",
   "pygments_lexer": "ipython2",
   "version": "2.7.6"
  }
 },
 "nbformat": 4,
 "nbformat_minor": 0
}