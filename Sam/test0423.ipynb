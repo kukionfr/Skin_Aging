{
 "cells": [
  {
   "cell_type": "code",
   "execution_count": 4,
   "metadata": {
    "pycharm": {
     "name": "#%%\n"
    }
   },
   "outputs": [],
   "source": [
    "import tensorflow as tf\n",
    "from tensorflow.keras.models import Sequential\n",
    "from tensorflow.keras.layers import Dense, Conv2D, Dropout, MaxPool2D, Flatten, GlobalAveragePooling2D, add,average\n",
    "from tensorflow_docs import modeling\n",
    "import tensorflow_datasets as tfds\n",
    "import tensorflow_hub as hub\n",
    "import pandas as pd\n",
    "import numpy as np\n",
    "import matplotlib.pyplot as plt\n",
    "import os\n",
    "import pathlib\n",
    "import shutil\n",
    "tfds.disable_progress_bar() # disable tqdm progress bar"
   ]
  },
  {
   "cell_type": "code",
   "execution_count": 5,
   "metadata": {
    "pycharm": {
     "name": "#%%\n"
    }
   },
   "outputs": [
    {
     "name": "stdout",
     "output_type": "stream",
     "text": [
      "TensorFlow Version:  2.1.0\n",
      "Number of GPU available:  2\n"
     ]
    }
   ],
   "source": [
    "print(\"TensorFlow Version: \",tf.__version__)\n",
    "print(\"Number of GPU available: \",len(tf.config.experimental.list_physical_devices(\"GPU\")))"
   ]
  },
  {
   "cell_type": "code",
   "execution_count": 6,
   "metadata": {
    "collapsed": false,
    "jupyter": {
     "outputs_hidden": false
    },
    "pycharm": {
     "name": "#%%\n"
    }
   },
   "outputs": [],
   "source": [
    "# 0. receive path of a folder containing an image file\n",
    "# 1. extract label from folder\n",
    "# 2. decode and convert image dtype\n",
    "# 3. return image and label\n",
    "def read_and_label(file_path):\n",
    "  img = tf.io.read_file(file_path)\n",
    "  img = decode_img(img)\n",
    "  label = get_label(file_path)\n",
    "  return img, label"
   ]
  },
  {
   "cell_type": "code",
   "execution_count": 7,
   "metadata": {
    "pycharm": {
     "name": "#%%\n"
    }
   },
   "outputs": [],
   "source": [
    "# 0. receive JPEG-encoded image\n",
    "# 1. decode image to a uint8 tensor\n",
    "# 2. convert uint8 to float32 tensor\n",
    "# 3. resize image tensor to match our model's preferred input size\n",
    "# 4. return\n",
    "def decode_img(img):\n",
    "  img = tf.image.decode_jpeg(img, channels=3)\n",
    "  img = tf.image.convert_image_dtype(img, tf.float32)\n",
    "  return tf.image.resize(img, [IMG_WIDTH, IMG_HEIGHT])"
   ]
  },
  {
   "cell_type": "markdown",
   "metadata": {
    "jupyter": {
     "outputs_hidden": false
    },
    "pycharm": {
     "name": "#%% md\n"
    }
   },
   "source": [
    "JPEG is a method that makes grid of numbers look like grid of colors."
   ]
  },
  {
   "cell_type": "code",
   "execution_count": 8,
   "metadata": {
    "pycharm": {
     "name": "#%%\n"
    }
   },
   "outputs": [],
   "source": [
    "# 0. receives path of a folder containing an image file\n",
    "# 1. extract name of subfolders\n",
    "# 2. return index of matching label in CLASS_NAMES list of labels\n",
    "def get_label(file_path):\n",
    "  parts = tf.strings.split(file_path, os.path.sep)\n",
    "  return tf.reshape(tf.where(parts[-2] == CLASS_NAMES),[])"
   ]
  },
  {
   "cell_type": "code",
   "execution_count": 9,
   "metadata": {
    "pycharm": {
     "name": "#%%\n"
    }
   },
   "outputs": [],
   "source": [
    "# 0. receive an image tensor\n",
    "# 1. perform augmentation\n",
    "# 2. return augmented image\n",
    "def augment(image,label):\n",
    "  image = tf.image.random_hue(image, max_delta=0.05, seed=5)\n",
    "  image = tf.image.random_contrast(image, 0.9, 1.1, seed=5) # tissue quality\n",
    "  image = tf.image.random_saturation(image, 0.9, 1.1, seed=5) # stain quality\n",
    "  image = tf.image.random_brightness(image, max_delta=0.1) # tissue thickness, glass transparency (clean)\n",
    "  image = tf.image.random_flip_left_right(image, seed=5) # cell orientation\n",
    "  image = tf.image.random_flip_up_down(image, seed=5) # cell orientation\n",
    "  image = tf.image.rot90(image, tf.random.uniform(shape=[], minval=0, maxval=4, dtype=tf.int32)) # cell orientation\n",
    "  return image,label"
   ]
  },
  {
   "cell_type": "code",
   "execution_count": 10,
   "metadata": {
    "pycharm": {
     "name": "#%%\n"
    }
   },
   "outputs": [
    {
     "name": "stdout",
     "output_type": "stream",
     "text": [
      "b'Dataset/train/young/40_sec023_young.jpg'\n",
      "b'Dataset/train/young/1_sec023_young.jpg'\n",
      "b'Dataset/train/young/43_sec023_young.jpg'\n",
      "b'Dataset/train/old/19_sec068_old.jpg'\n",
      "b'Dataset/train/young/13_sec023_young.jpg'\n"
     ]
    }
   ],
   "source": [
    "# list location of all training images\n",
    "data_dir='Dataset/train'\n",
    "data_dir = pathlib.Path(data_dir)\n",
    "train_image_count = len(list(data_dir.glob('*/*.jpg')))\n",
    "CLASS_NAMES = np.array([item.name for item in data_dir.glob('*') if item.name != \"LICENSE.txt\" and item.name != \".DS_store\"])\n",
    "list_ds = tf.data.Dataset.list_files(str(data_dir/'*/*'))\n",
    "# To see what's inside of list_ds, use .take(n) and iterate through it.\n",
    "for f in list_ds.take(5):\n",
    "  print(f.numpy())"
   ]
  },
  {
   "cell_type": "markdown",
   "metadata": {
    "pycharm": {
     "name": "#%% md\n"
    }
   },
   "source": [
    "**Hyperparameter #0: Image Size**\n",
    "\n",
    "Image size determines the area of view and how much context to be included in classification."
   ]
  },
  {
   "cell_type": "code",
   "execution_count": 11,
   "metadata": {
    "pycharm": {
     "name": "#%%\n"
    }
   },
   "outputs": [],
   "source": [
    "IMG_HEIGHT = 100\n",
    "IMG_WIDTH = 100"
   ]
  },
  {
   "cell_type": "markdown",
   "metadata": {
    "jupyter": {
     "outputs_hidden": false
    },
    "pycharm": {
     "name": "#%% md\n"
    }
   },
   "source": [
    "**Parallel Data Input**\n",
    "\n",
    "Data I/O may be a bottleneck of your workflow. Prefetching is to read data for next step while model is\n",
    "executing current training step. Autotune will be used to determine the number of data to prefetch, which should be\n",
    "greater than data needed for next step and smaller than RAM memory size."
   ]
  },
  {
   "cell_type": "code",
   "execution_count": 12,
   "metadata": {
    "collapsed": false,
    "jupyter": {
     "outputs_hidden": false
    },
    "pycharm": {
     "name": "#%%\n"
    }
   },
   "outputs": [
    {
     "data": {
      "text/plain": "<Figure size 720x720 with 0 Axes>"
     },
     "metadata": {},
     "output_type": "display_data"
    }
   ],
   "source": [
    "AUTOTUNE = tf.data.experimental.AUTOTUNE\n",
    "labeled_ds = list_ds.map(read_and_label, num_parallel_calls=AUTOTUNE)\n",
    "plt.figure(figsize=(10,10))\n",
    "plt.show()"
   ]
  },
  {
   "cell_type": "code",
   "execution_count": 15,
   "outputs": [
    {
     "data": {
      "text/plain": "<Figure size 432x288 with 64 Axes>",
      "image/png": "[encoded data removed]"
     },
     "metadata": {
      "needs_background": "light"
     },
     "output_type": "display_data"
    }
   ],
   "source": [
    "for idx,elem in enumerate(labeled_ds.take(64)):\n",
    "    img = elem[0]\n",
    "    label = elem[1]\n",
    "    ax = plt.subplot(8,8,idx+1)\n",
    "    plt.imshow(img)\n",
    "    plt.title(CLASS_NAMES[label].title())\n",
    "    plt.axis('off')"
   ],
   "metadata": {
    "collapsed": false,
    "pycharm": {
     "name": "#%%\n"
    }
   }
  },
  {
   "cell_type": "code",
   "execution_count": null,
   "metadata": {
    "pycharm": {
     "name": "#%%\n"
    }
   },
   "outputs": [],
   "source": [
    "BATCH_SIZE = 32"
   ]
  },
  {
   "cell_type": "markdown",
   "metadata": {
    "pycharm": {
     "name": "#%% md\n"
    }
   },
   "source": [
    "**Hyperparameter #1: Batch Size**\n",
    "\n",
    "**What is it?**\n",
    "- Number of image to be grouped together as a batch. Why batch? Because we cannot fit all images in GPU memory\n",
    "\n",
    "**What does it do?**\n",
    "- Ex) Batch_size of 400 will split 1000 training images into 3 batches containing 400,400,200 images\n",
    "\n",
    "**Increase?**\n",
    "- More accurate gradient descent because the direction of gradient step is based on more data.\n",
    "- Limited by GPU memory\n",
    "- Slow iteration speed\n",
    "- Get stuck at local minima in Gradient landscape by descending too accurately, and not jumping around.\n",
    "\n",
    "<img src=\"imagesource/dataset.png\" width=\"300\"/>"
   ]
  },
  {
   "cell_type": "code",
   "execution_count": null,
   "metadata": {
    "pycharm": {
     "name": "#%%\n"
    }
   },
   "outputs": [],
   "source": [
    "val_fraction = 10\n",
    "val_image_count = train_image_count//100 * val_fraction # // : floor division ex) 15/2 = 7.5 -> 7\n",
    "train_image_count = train_image_count - val_image_count\n",
    "\n",
    "STEPS_PER_EPOCH = train_image_count//BATCH_SIZE"
   ]
  },
  {
   "cell_type": "markdown",
   "metadata": {
    "jupyter": {
     "outputs_hidden": false
    },
    "pycharm": {
     "name": "#%% md\n"
    }
   },
   "source": [
    "**Hyperparameter #2: Steps per epoch**\n",
    "\n",
    "**What is it?**\n",
    "- Max number of batches within epoch (1 cycle of training)\n",
    "\n",
    "**What does it do?**\n",
    "- Ex) When you have 10 batches, each epoch is supposed to iterate 10 batches.\n",
    "By setting steps per epoch to 5, you can only iterate 5 batches in one epoch.\n",
    "To use all batches available, simply divide total image count by batch size,\n",
    "just how it is set in this tutorial."
   ]
  },
  {
   "cell_type": "code",
   "execution_count": null,
   "metadata": {
    "pycharm": {
     "name": "#%%\n"
    }
   },
   "outputs": [],
   "source": [
    "VALIDATION_STEPS = val_image_count // BATCH_SIZE"
   ]
  },
  {
   "cell_type": "markdown",
   "metadata": {
    "pycharm": {
     "name": "#%% md\n"
    }
   },
   "source": [
    "**Hyperparameter #3: Validation steps**\n",
    "\n",
    "**What is it?**\n",
    "- Same as steps per epoch, but for validation set\n",
    "\n",
    "**What does it do?**\n",
    "- Same as steps per epoch"
   ]
  },
  {
   "cell_type": "markdown",
   "metadata": {
    "jupyter": {
     "outputs_hidden": false
    },
    "pycharm": {
     "name": "#%% md\n"
    }
   },
   "source": [
    "## Train, Validation, Test Dataset  \n",
    "Train and Test dataset are two independent group of images (e.g. different patients)\n",
    "Validation dataset is subset of train we use during training to evaluate training is going in the right direction.\n",
    "(e.g. train until validation loss does not improve).  \n",
    "**Loss**: A measure of how far a model's predictions are from correct labels. Or, a measure of how bad the model is\n",
    "<img src=\"imagesource/getlabel.png\" width=\"300\"/><img src=\"imagesource/dataset.png\" width=\"300\"/>\n",
    "\n",
    "**Question: Train until validation loss does not improve? When do you stop training?**  \n",
    "We feed our entire training dataset to blackbox not just once, but multiple times.  \n",
    "Feeding entire set once is called one **epoch**.\n",
    "\n",
    "**Question: Why can't it finish learning in one epoch?**  \n",
    "Why do you need to study same thing over and over again for the exam? AT least, you can set learning rate for the blackbox, but you can't set learning rate for yourself. XD\n",
    "\n",
    "**Goal of training is to reduce the loss**  \n",
    "<img src=\"imagesource/losscurve.png\" width=\"400\"/><img src=\"imagesource/lossland.jpg\" width=\"400\"/>"
   ]
  },
  {
   "cell_type": "code",
   "execution_count": null,
   "metadata": {
    "pycharm": {
     "name": "#%%\n"
    }
   },
   "outputs": [],
   "source": [
    "shuffle_buffer_size = 100 #take first 100 from dataset and shuffle and pick one.\n",
    "train_ds = (labeled_ds\n",
    "            .skip(val_image_count)\n",
    "            # .cache(\"./cache/fibro_train.tfcache\")\n",
    "            .shuffle(buffer_size=shuffle_buffer_size)\n",
    "            .repeat()\n",
    "            .batch(BATCH_SIZE)\n",
    "            .map(augment, num_parallel_calls=AUTOTUNE) #always batch before mapping\n",
    "            .prefetch(buffer_size=AUTOTUNE) \n",
    "            )\n",
    "\n",
    "# no shuffle, augment for validation and test dataset\n",
    "val_ds= (labeled_ds\n",
    "               .take(val_image_count)\n",
    "               # .cache(\"./cache/fibro_val.tfcache\")\n",
    "               .repeat()\n",
    "               .batch(BATCH_SIZE)\n",
    "               .prefetch(buffer_size=AUTOTUNE))\n",
    "\n",
    "test_data_dir='Dataset/test'\n",
    "test_data_dir = pathlib.Path(test_data_dir)\n",
    "test_image_count = len(list(test_data_dir.glob('*/*.jpg')))\n",
    "TEST_STEPS = test_image_count // BATCH_SIZE\n",
    "test_list_ds = tf.data.Dataset.list_files(str(test_data_dir/'*/*'))\n",
    "test_labeled_ds = test_list_ds.map(read_and_label, num_parallel_calls=AUTOTUNE)\n",
    "test_ds = (test_labeled_ds\n",
    "            # .cache(\"./cache/fibro_test.tfcache\")\n",
    "            .repeat()\n",
    "            .batch(BATCH_SIZE)\n",
    "            .prefetch(buffer_size=AUTOTUNE) #time it takes to produce next element\n",
    "            )"
   ]
  },
  {
   "cell_type": "markdown",
   "metadata": {
    "pycharm": {
     "name": "#%% md\n"
    }
   },
   "source": [
    "## What's inside of the blackbox?\n",
    "<img src=\"imagesource/buildmodel.jpg\" width=\"400\"/>  \n",
    "\n",
    "### Convolutional Neural Network Architecture \n",
    "- Input layer = define the input image size  \n",
    "![title](imagesource/conv1.png)\n",
    "- Convolution layer = slide filter across image and compute dot product between filter and image  \n",
    "![title](imagesource/conv3.png)  \n",
    "<img src=\"imagesource/conv.png\" width=\"400\"/><img src=\"imagesource/mapdepth.png\" width=\"400\"/>"
   ]
  },
  {
   "cell_type": "markdown",
   "metadata": {
    "pycharm": {
     "name": "#%% md\n"
    }
   },
   "source": [
    "- Activation layer = apply non-linearity to feature map. \"ReLU\" set all negative values to zero in feature map.  \n",
    "<img src=\"imagesource/activation.png\" width=\"400\"/>  \n",
    "- Pooling layer = down-sample the activation map to keep important learned activation and remove fine detail. It prevents over-fitting. Almost always down-sample each dimension by half, creating 1/4 size of original activation map. By reducing resolution, activation map is free from local variance.  \n",
    "<img src=\"imagesource/maxpool.png\" width=\"400\"/><img src=\"imagesource/avgpool.png\" width=\"400\"/>\n",
    "- Fully-connected layer = flatten 2D activation maps to 1D and compute prediction score,\n",
    "a.k.a. logits."
   ]
  },
  {
   "cell_type": "code",
   "execution_count": null,
   "metadata": {
    "collapsed": false,
    "jupyter": {
     "outputs_hidden": false
    },
    "pycharm": {
     "name": "#%%\n"
    }
   },
   "outputs": [],
   "source": [
    "model_cnnA1= Sequential([\n",
    "    Conv2D(32, (3, 3), activation='relu', input_shape=(IMG_HEIGHT, IMG_WIDTH ,3)),\n",
    "    MaxPool2D((2, 2)),\n",
    "    Conv2D(64, (3, 3), activation='relu'),\n",
    "    MaxPool2D((2, 2)),\n",
    "    Conv2D(64, (3, 3), activation='relu'),\n",
    "    Flatten(),\n",
    "    Dense(64, activation='relu'),\n",
    "    Dense(2) #young vs old\n",
    "])"
   ]
  },
  {
   "cell_type": "markdown",
   "metadata": {},
   "source": [
    "**Hyperparameter #4: Number of convolution filters**  \n",
    "**Hyperparameter #5: Filter size**  \n",
    "**Hyperparameter #6: Activation function**  \n",
    "**Hyperparameter #7: Shape of fully connected layer**  \n",
    "**Hyperparameter #8: Initializer**  \n",
    "<img src=\"imagesource/lossland.jpg\" width=\"400\"/>  \n",
    "**Hyperparameter #9: Regularizer**  \n",
    "<img src=\"imagesource/overfit.png\" width=\"400\"/>  \n",
    "**Hyperparameter #10: Dropout rate**  \n",
    "<img src=\"imagesource/drop.png\" width=\"400\"/>  "
   ]
  },
  {
   "cell_type": "code",
   "execution_count": null,
   "metadata": {
    "collapsed": false,
    "jupyter": {
     "outputs_hidden": false
    },
    "pycharm": {
     "name": "#%%\n"
    }
   },
   "outputs": [],
   "source": [
    "model_cnnA2= Sequential([\n",
    "    Conv2D(32, (3, 3), activation='relu', input_shape=(IMG_HEIGHT, IMG_WIDTH ,3),kernel_initializer='he_uniform'),\n",
    "    MaxPool2D((2, 2)),\n",
    "    Conv2D(64, (3, 3), activation='relu',kernel_initializer='he_uniform'),\n",
    "    MaxPool2D((2, 2)),\n",
    "    Conv2D(64, (3, 3), activation='relu',kernel_initializer='he_uniform'),\n",
    "    Flatten(),\n",
    "    Dense(64, activation='relu',kernel_initializer='he_uniform'),\n",
    "    Dense(2)\n",
    "])"
   ]
  },
  {
   "cell_type": "code",
   "execution_count": null,
   "metadata": {},
   "outputs": [],
   "source": [
    "model_cnnA3= Sequential([\n",
    "    Conv2D(16, (3, 3), activation='relu', input_shape=(IMG_HEIGHT, IMG_WIDTH ,3)\n",
    "           ,kernel_initializer='he_uniform',kernel_regularizer=tf.keras.regularizers.l2(0.001)),\n",
    "    MaxPool2D((2, 2)),\n",
    "    Dropout(0.3),\n",
    "    Conv2D(32, (3, 3), activation='relu',kernel_initializer='he_uniform',kernel_regularizer=tf.keras.regularizers.l2(0.001)),\n",
    "    MaxPool2D((2, 2)),\n",
    "    Conv2D(64, (3, 3), activation='relu',kernel_initializer='he_uniform',kernel_regularizer=tf.keras.regularizers.l2(0.001)),\n",
    "    Dropout(0.3),\n",
    "    Flatten(),\n",
    "    Dense(512, activation='relu',kernel_initializer='he_uniform',kernel_regularizer=tf.keras.regularizers.l2(0.001)),\n",
    "    Dense(2)\n",
    "])"
   ]
  },
  {
   "cell_type": "code",
   "execution_count": null,
   "metadata": {},
   "outputs": [],
   "source": [
    "model_cnnA4= Sequential([\n",
    "    Conv2D(16, (3, 3), activation='relu', input_shape=(IMG_HEIGHT, IMG_WIDTH ,3),kernel_initializer='he_uniform'),\n",
    "    MaxPool2D((2, 2)),\n",
    "    Dropout(0.5),\n",
    "    Conv2D(32, (3, 3), activation='relu',kernel_initializer='he_uniform'),\n",
    "    MaxPool2D((2, 2)),\n",
    "    Conv2D(64, (3, 3), activation='relu',kernel_initializer='he_uniform'),\n",
    "    Dropout(0.5),\n",
    "    Flatten(),\n",
    "    Dense(512, activation='relu',kernel_initializer='he_uniform'),\n",
    "    Dense(2)\n",
    "])"
   ]
  },
  {
   "cell_type": "markdown",
   "metadata": {
    "pycharm": {
     "name": "#%% md\n"
    }
   },
   "source": [
    "**Keras Functional API**\n",
    "\n",
    "To build more advanced CNN, we need to use techniques like parallel convolution layers in Inception.\n",
    "Or, residual connection used in ResNet. Sequential function we used in models above can only stack\n",
    "layers in a single sequence. Below is an example of building the same model as above, but using Keras\n",
    "Functional API syntax."
   ]
  },
  {
   "cell_type": "code",
   "execution_count": null,
   "metadata": {
    "collapsed": false,
    "jupyter": {
     "outputs_hidden": false
    },
    "pycharm": {
     "name": "#%%\n"
    }
   },
   "outputs": [],
   "source": [
    "inputlayer = tf.keras.Input(shape=(100,100,3), name='image_in')\n",
    "x = Conv2D(16, (3, 3), activation='relu',kernel_initializer='he_uniform')(inputlayer)\n",
    "x = MaxPool2D((2, 2))(x)\n",
    "x = Dropout(0.5)(x)\n",
    "x = Conv2D(32, (3, 3), activation='relu',kernel_initializer='he_uniform')(x)\n",
    "x = MaxPool2D((2, 2))(x)\n",
    "x = Conv2D(64, (3, 3), activation='relu',kernel_initializer='he_uniform')(x)\n",
    "x = Dropout(0.5)(x)\n",
    "# Flatten convert 2D activation map to 1D tensor keeping all values (e.g. 10x20 2D -> 200 1D)\n",
    "# GlobalAveragePooling convert 2D to 1D while average pooling on 2D until it becomes 1D (e.g. 10x20 -> 1x1)\n",
    "x = GlobalAveragePooling2D()(x) # this replaces flatten.\n",
    "x = Dense(256, activation='relu',kernel_initializer='he_uniform')(x)\n",
    "x = Dropout(0.5)(x)\n",
    "outputlayer = Dense(2)(x)\n",
    "model_cnnB=tf.keras.Model(inputs=inputlayer, outputs=outputlayer)"
   ]
  },
  {
   "cell_type": "markdown",
   "metadata": {},
   "source": [
    "&emsp;&emsp;global max pooling&emsp;&emsp;&emsp;&emsp;&emsp;&emsp;&emsp;&emsp;&emsp;&emsp;&emsp;&emsp;&emsp;&emsp;&emsp;&emsp;&emsp;&emsp;\n",
    "&emsp;&emsp;&emsp;global average pooling  \n",
    "<img src=\"imagesource/glomax.png\" width=\"400\"/>&emsp;&emsp;<img src=\"imagesource/gloavg.png\" width=\"400\"/>"
   ]
  },
  {
   "cell_type": "markdown",
   "metadata": {},
   "source": [
    "## ResNet  \n",
    "**Residual Learning**  \n",
    "Create a shortcut by adding output of previous block to output of current block.\n",
    "Allows data to flow through deep neural network.  \n",
    "\n",
    "<img src=\"imagesource/inception.jpg\" width=\"400\"/>"
   ]
  },
  {
   "cell_type": "code",
   "execution_count": null,
   "metadata": {},
   "outputs": [],
   "source": [
    "inputs = tf.keras.Input(shape=(100, 100, 3), name='img')\n",
    "x = Conv2D(32, 3, activation='relu')(inputs)\n",
    "x = Conv2D(64, 3, activation='relu')(x)\n",
    "block_1_output = MaxPool2D(3)(x)\n",
    "\n",
    "x = Conv2D(64, 3, activation='relu', padding='same')(block_1_output)\n",
    "x = Conv2D(64, 3, activation='relu', padding='same')(x)\n",
    "block_2_output = add([x, block_1_output])\n",
    "\n",
    "x = Conv2D(64, 3, activation='relu', padding='same')(block_2_output)\n",
    "x = Conv2D(64, 3, activation='relu', padding='same')(x)\n",
    "block_3_output = add([x, block_2_output])\n",
    "\n",
    "x = Conv2D(64, 3, activation='relu')(block_3_output)\n",
    "x = GlobalAveragePooling2D()(x)\n",
    "x = Dense(256, activation='relu')(x)\n",
    "x = Dropout(0.5)(x)\n",
    "outputs = Dense(10)(x)\n",
    "\n",
    "model_cnnB1 = tf.keras.Model(inputs, outputs, name='toy_resnet')\n",
    "model_cnnB1.summary()\n",
    "# tf.keras.utils.plot_model(model_cnnB1, 'my_first_model.png')"
   ]
  },
  {
   "cell_type": "markdown",
   "metadata": {},
   "source": [
    "## Ensemble\n",
    "Train multiple models to compute logits and make better decision together.  \n",
    "1. take average of output/scores/logits from different models\n",
    "2. popular vote of highest scored label \n",
    "3. etc"
   ]
  },
  {
   "cell_type": "code",
   "execution_count": null,
   "metadata": {},
   "outputs": [],
   "source": [
    "inputs = tf.keras.Input(shape=(100,100,3))\n",
    "y1 = model_cnnA1(inputs)\n",
    "y2 = model_cnnA2(inputs)\n",
    "y3 = model_cnnA3(inputs)\n",
    "outputs = average([y1,y2,y3])\n",
    "ensemble_model = tf.keras.Model(inputs=inputs, outputs=outputs)"
   ]
  },
  {
   "cell_type": "markdown",
   "metadata": {
    "pycharm": {
     "name": "#%% md\n"
    }
   },
   "source": [
    "**Loading Tensorboard on Jupyter Notebook**\n",
    "\n",
    "Tensorboard visualizes training log stored in the log directory defined below on localhost\n",
    "You can live monitor training progress, review training result afterwards, inspect training dataset, etc."
   ]
  },
  {
   "cell_type": "code",
   "execution_count": null,
   "metadata": {
    "collapsed": false,
    "jupyter": {
     "outputs_hidden": false
    },
    "pycharm": {
     "name": "#%%\n"
    }
   },
   "outputs": [],
   "source": [
    "log_dir = pathlib.Path('logs/fit')\n",
    "shutil.rmtree(log_dir, ignore_errors=True)\n",
    "%load_ext tensorboard"
   ]
  },
  {
   "cell_type": "markdown",
   "metadata": {
    "pycharm": {
     "name": "#%% md\n"
    }
   },
   "source": [
    "**Callbacks**\n",
    "\n",
    "Callbacks are functions that execute during training in between epochs or in between steps.\n",
    "\n",
    "**Examples**\n",
    "- record training status\n",
    "- write log for tensorboard\n",
    "- early stop training if validation loss is not improving. It prevents overfitting\n",
    "- reduce learning rate when the loss plateaus to pin-point the absolute minimum\n",
    "- you can also write your customized callbacks like \"CollectBatchStats\" in this tutorial\n",
    "\n",
    "<img src=\"imagesource/overfit.png\" width=\"400\"/>  "
   ]
  },
  {
   "cell_type": "code",
   "execution_count": null,
   "metadata": {
    "collapsed": false,
    "jupyter": {
     "outputs_hidden": false
    },
    "pycharm": {
     "name": "#%%\n"
    }
   },
   "outputs": [],
   "source": [
    "checkpoint_path = \"training_1/cp.ckpt\"\n",
    "checkpoint_dir = os.path.dirname(checkpoint_path)\n",
    "shutil.rmtree(checkpoint_dir, ignore_errors=True)\n",
    "class CollectBatchStats(tf.keras.callbacks.Callback):\n",
    "  def __init__(self):\n",
    "    self.batch_losses = []\n",
    "    self.batch_acc = []\n",
    "\n",
    "  def on_train_batch_end(self, batch, logs=None):\n",
    "    self.batch_losses.append(logs['loss'])\n",
    "    self.batch_acc.append(logs['accuracy'])\n",
    "    self.model.reset_metrics()\n",
    "\n",
    "\n",
    "def get_callbacks(name):\n",
    "  return [\n",
    "    modeling.EpochDots(),\n",
    "#     CollectBatchStats(),\n",
    "#       monitor='val_sparse_categorical_crossentropy',\n",
    "    tf.keras.callbacks.EarlyStopping(monitor='val_sparse_categorical_crossentropy',\n",
    "                                     patience=100,restore_best_weights=True),\n",
    "    tf.keras.callbacks.TensorBoard(log_dir/name, histogram_freq=1),\n",
    "    tf.keras.callbacks.ModelCheckpoint(filepath=checkpoint_path,\n",
    "                                       verbose=0,\n",
    "                                       monitor='val_sparse_categorical_crossentropy',\n",
    "                                       save_weights_only=True,\n",
    "                                       save_best_only=True),\n",
    "    # tf.keras.callbacks.ReduceLROnPlateau(monitor='val_binary_crossentropy',\n",
    "    #                                      factor=0.1, patience=10, verbose=0, mode='auto',\n",
    "    #                                      min_delta=0.0001, cooldown=0, min_lr=0),\n",
    "  ]"
   ]
  },
  {
   "cell_type": "markdown",
   "metadata": {
    "pycharm": {
     "name": "#%% md\n"
    }
   },
   "source": [
    "**Callbacks**\n",
    "\n",
    "Callbacks are functions that execute during training in between epochs or in between steps.\n",
    "\n",
    "**Examples**\n",
    "- record training status\n",
    "- write log for tensorboard\n",
    "- early stop training if validation loss is not improving. It prevents overfitting\n",
    "- reduce learning rate when the loss plateaus to pin-point the absolute minimum\n",
    "- you can also write your customized callbacks like \"CollectBatchStats\" in this tutorial"
   ]
  },
  {
   "cell_type": "markdown",
   "metadata": {},
   "source": [
    "**Hyperparameter #11: Learning rate**\n",
    "\n",
    "**What is it?**\n",
    "- Rate of gradient descent\n",
    "\n",
    "**What does it do?**\n",
    "- High learning rate (0.1~0.001) will jump around the landscape.\n",
    "- Low learning rate(0.001~0.00001) will get stuck at local minima.\n",
    "- Try learning rate decay to jump around at the beginning and settle into a global minima if lucky.  \n",
    "- Adam optimizer is already equipped with exponential learning rate decay."
   ]
  },
  {
   "cell_type": "code",
   "execution_count": null,
   "metadata": {
    "collapsed": false,
    "jupyter": {
     "outputs_hidden": false
    },
    "pycharm": {
     "name": "#%%\n"
    }
   },
   "outputs": [],
   "source": [
    "lr_schedule = tf.keras.optimizers.schedules.InverseTimeDecay(\n",
    "  0.0001,\n",
    "  decay_steps=STEPS_PER_EPOCH*1000,\n",
    "  decay_rate=1,\n",
    "  staircase=False)"
   ]
  },
  {
   "cell_type": "markdown",
   "metadata": {},
   "source": [
    "**Hyperparameter #12: Optimizer**\n",
    "\n",
    "SGD = primitive method of walking down the gradient in one direction  \n",
    "SGDM = momentum allows escaping local minimum  \n",
    "AdaGrad = Take larger step in area with sparse data. Adaptive Exponential Learning Decay  \n",
    "ADAM = AdaGrad + momentum  \n",
    "<img src=\"imagesource/saddle.gif\" width=\"400\"/>&emsp;&emsp;&emsp;&emsp;&emsp;&emsp;&emsp;<img src=\"imagesource/sponge.jpg\" width=\"400\"/>"
   ]
  },
  {
   "cell_type": "markdown",
   "metadata": {},
   "source": [
    "**Automatic Hyperparmeter Optimization**  \n",
    "Available methods: Hyperband, Bayesian Optimization, Random Search  \n",
    "Try \"Keras Tuner\" to implement these automatic optimization"
   ]
  },
  {
   "cell_type": "code",
   "execution_count": null,
   "metadata": {
    "collapsed": false,
    "jupyter": {
     "outputs_hidden": false
    },
    "pycharm": {
     "name": "#%%\n"
    }
   },
   "outputs": [],
   "source": [
    "def compilefit(model,loss_fn, name, optimizer=None, max_epochs=100):\n",
    "#     optimizer = optimizers.Adam(lr_schedule)\n",
    "    optimizer = tf.keras.optimizers.Adam(0.001)\n",
    "    model.compile(optimizer=optimizer,\n",
    "              loss=loss_fn,\n",
    "              metrics=[\n",
    "                  tf.keras.losses.SparseCategoricalCrossentropy(from_logits=True),\n",
    "                  'accuracy'])\n",
    "    model.summary()\n",
    "    model_history = model.fit(train_ds,\n",
    "          steps_per_epoch= STEPS_PER_EPOCH,\n",
    "          epochs=max_epochs,\n",
    "          verbose=0,\n",
    "          validation_data=val_ds,\n",
    "          callbacks=get_callbacks(name),\n",
    "          validation_steps=VALIDATION_STEPS,\n",
    "          use_multiprocessing=True\n",
    "                       )\n",
    "    if not os.path.isdir(os.path.abspath(name)):\n",
    "        os.mkdir(os.path.abspath(name))\n",
    "    model.save(pathlib.Path(name)/'full_model.h5')\n",
    "    return model_history"
   ]
  },
  {
   "cell_type": "code",
   "execution_count": null,
   "metadata": {
    "collapsed": false,
    "jupyter": {
     "outputs_hidden": false
    },
    "pycharm": {
     "name": "#%%\n"
    }
   },
   "outputs": [],
   "source": [
    "%tensorboard --logdir log_dir\n",
    "histories={}\n",
    "loss_fn = tf.keras.losses.SparseCategoricalCrossentropy(from_logits=True)\n",
    "# loss_fn = tf.keras.losses.BinaryCrossentropy(from_logits=True)"
   ]
  },
  {
   "cell_type": "code",
   "execution_count": null,
   "metadata": {
    "collapsed": false,
    "jupyter": {
     "outputs_hidden": false
    },
    "pycharm": {
     "name": "#%%\n"
    }
   },
   "outputs": [],
   "source": [
    "def plotdf(dfobj,condition):\n",
    "    dfobj.pop('loss')\n",
    "    dfobj.pop('val_loss')\n",
    "    dfobj1=dfobj.copy()\n",
    "    dfobj.pop('sparse_categorical_crossentropy')\n",
    "    dfobj.pop('val_sparse_categorical_crossentropy')\n",
    "    pd.DataFrame(dfobj).plot(title=condition)\n",
    "    dfobj1.pop('accuracy')\n",
    "    dfobj1.pop('val_accuracy')\n",
    "    pd.DataFrame(dfobj1).plot()"
   ]
  },
  {
   "cell_type": "code",
   "execution_count": null,
   "metadata": {
    "collapsed": false,
    "jupyter": {
     "outputs_hidden": false
    },
    "pycharm": {
     "name": "#%%\n"
    }
   },
   "outputs": [],
   "source": [
    "histories={}\n",
    "histories['cnnA1'] = compilefit(model_cnnA1,loss_fn,'cnn/A1')\n",
    "histories['cnnA2'] = compilefit(model_cnnA2,loss_fn,'cnn/A2')\n",
    "histories['cnnA3'] = compilefit(model_cnnA3,loss_fn,'cnn/A3')\n",
    "histories['cnnA4'] = compilefit(model_cnnA4,loss_fn,'cnn/A4')"
   ]
  },
  {
   "cell_type": "code",
   "execution_count": null,
   "metadata": {
    "collapsed": false,
    "jupyter": {
     "outputs_hidden": false
    },
    "pycharm": {
     "name": "#%%\n"
    }
   },
   "outputs": [],
   "source": [
    "plotdf(histories['cnnA1'].history,'conv-pool-conv-pool-conv-fc')\n",
    "plotdf(histories['cnnA2'].history,'he_initializer')\n",
    "plotdf(histories['cnnA3'].history,'dropout0.3+L2')\n",
    "plotdf(histories['cnnA4'].history,'dropout0.5')"
   ]
  },
  {
   "cell_type": "code",
   "execution_count": null,
   "metadata": {
    "collapsed": false,
    "jupyter": {
     "outputs_hidden": false
    },
    "pycharm": {
     "name": "#%%\n"
    }
   },
   "outputs": [],
   "source": [
    "# test_scores = model_cnnA4.evaluate(test_ds)\n",
    "# test_result = model_cnnA4.predict(data, batch_size=32)"
   ]
  },
  {
   "cell_type": "markdown",
   "metadata": {},
   "source": [
    "### Mirrored Strategy Multi-GPU Training"
   ]
  },
  {
   "cell_type": "code",
   "execution_count": null,
   "metadata": {
    "collapsed": false,
    "jupyter": {
     "outputs_hidden": false
    },
    "pycharm": {
     "name": "#%%\n"
    }
   },
   "outputs": [],
   "source": [
    "mirrored_strategy = tf.distribute.MirroredStrategy(devices=None, cross_device_ops=tf.distribute.HierarchicalCopyAllReduce())\n",
    "with mirrored_strategy.scope():\n",
    "    model_cnnA4= Sequential([\n",
    "    Conv2D(16, (3, 3), activation='relu', input_shape=(IMG_HEIGHT, IMG_WIDTH ,3),kernel_initializer='he_uniform'),\n",
    "    MaxPool2D((2, 2)),\n",
    "    Dropout(0.5),\n",
    "    Conv2D(32, (3, 3), activation='relu',kernel_initializer='he_uniform'),\n",
    "    MaxPool2D((2, 2)),\n",
    "    Conv2D(64, (3, 3), activation='relu',kernel_initializer='he_uniform'),\n",
    "    Dropout(0.5),\n",
    "    Flatten(),\n",
    "    Dense(512, activation='relu',kernel_initializer='he_uniform'),\n",
    "    Dense(2)\n",
    "    ])\n",
    "    \n",
    "    model_cnnA4.compile(optimizer='adam',\n",
    "              loss=loss_fn,\n",
    "              metrics=['accuracy'])\n",
    "\n",
    "history = model_cnnA4.fit(train_ds,\n",
    "      steps_per_epoch= STEPS_PER_EPOCH,\n",
    "      epochs=10,\n",
    "      verbose=0,\n",
    "      validation_data=val_ds,\n",
    "      validation_steps=VALIDATION_STEPS,\n",
    "      use_multiprocessing=True)"
   ]
  },
  {
   "cell_type": "markdown",
   "metadata": {},
   "source": [
    "### Transfer Learning\n",
    "#### Tensorflow Hub"
   ]
  },
  {
   "cell_type": "code",
   "execution_count": null,
   "metadata": {
    "collapsed": false,
    "jupyter": {
     "outputs_hidden": false
    },
    "pycharm": {
     "name": "#%%\n"
    }
   },
   "outputs": [],
   "source": [
    "classifier_url ='https://tfhub.dev/google/efficientnet/b0/classification/1'\n",
    "feature_extractor_url = \"https://tfhub.dev/google/efficientnet/b0/feature-vector/1\"\n",
    "module_spec = hub.load_module_spec(classifier_url)\n",
    "height, width = hub.get_expected_image_size(module_spec)\n",
    "\n",
    "feature_extractor_layer = hub.KerasLayer(feature_extractor_url,\n",
    "                                         input_shape=(100,100,3))\n",
    "feature_extractor_layer.trainable = False\n",
    "model = Sequential([\n",
    "  feature_extractor_layer,\n",
    "  Dense(2)\n",
    "])"
   ]
  },
  {
   "cell_type": "code",
   "execution_count": null,
   "metadata": {
    "collapsed": false,
    "jupyter": {
     "outputs_hidden": false
    },
    "pycharm": {
     "name": "#%%\n"
    }
   },
   "outputs": [],
   "source": [
    "model.compile(\n",
    "  optimizer=tf.keras.optimizers.Adam(),\n",
    "  loss=tf.keras.losses.CategoricalCrossentropy(from_logits=True),\n",
    "  metrics=['accuracy'])\n",
    "batch_stats_callback=CollectBatchStats()\n",
    "history = model.fit(train_ds, epochs=5,\n",
    "                              steps_per_epoch=STEPS_PER_EPOCH,\n",
    "                              callbacks = [batch_stats_callback])"
   ]
  },
  {
   "cell_type": "code",
   "execution_count": null,
   "metadata": {
    "collapsed": false,
    "jupyter": {
     "outputs_hidden": false
    },
    "pycharm": {
     "name": "#%%\n"
    }
   },
   "outputs": [],
   "source": [
    "plt.figure()\n",
    "plt.ylabel(\"Loss\")\n",
    "plt.xlabel(\"Training Steps\")\n",
    "plt.ylim([0,1])\n",
    "plt.plot(batch_stats_callback.batch_losses)"
   ]
  },
  {
   "cell_type": "code",
   "execution_count": null,
   "metadata": {
    "collapsed": false,
    "jupyter": {
     "outputs_hidden": false
    },
    "pycharm": {
     "name": "#%%\n"
    }
   },
   "outputs": [],
   "source": [
    "plt.figure()\n",
    "plt.ylabel(\"Accuracy\")\n",
    "plt.xlabel(\"Training Steps\")\n",
    "plt.ylim([0,1])\n",
    "plt.plot(batch_stats_callback.batch_acc)"
   ]
  },
  {
   "cell_type": "code",
   "execution_count": null,
   "metadata": {
    "pycharm": {
     "name": "#%%\n"
    }
   },
   "outputs": [],
   "source": [
    "pd.DataFrame(history.history).plot()"
   ]
  },
  {
   "cell_type": "markdown",
   "metadata": {},
   "source": [
    "### Transfer Learning\n",
    "#### Keras application"
   ]
  },
  {
   "cell_type": "code",
   "execution_count": null,
   "metadata": {
    "collapsed": false,
    "jupyter": {
     "outputs_hidden": false
    },
    "pycharm": {
     "name": "#%%\n"
    }
   },
   "outputs": [],
   "source": [
    "# Xception 299x299\n",
    "# MobileNetV2 = 224x224\n",
    "# InceptionResNetV2 = 299x299\n",
    "base_model = tf.keras.applications.Xception(input_shape=(100,100,3),\n",
    "                                               include_top=False,\n",
    "                                               weights='imagenet')\n",
    "base_model.trainable = False\n",
    "base_model.summary()\n",
    "model = tf.keras.Sequential([\n",
    "  base_model,\n",
    "  tf.keras.layers.GlobalAveragePooling2D(),\n",
    "  tf.keras.layers.Dense(1)\n",
    "])\n",
    "base_learning_rate = 0.0001\n",
    "model.compile(optimizer=tf.keras.optimizers.RMSprop(lr=base_learning_rate),\n",
    "              loss=tf.keras.losses.BinaryCrossentropy(from_logits=True),\n",
    "              metrics=['accuracy'])\n",
    "model.summary()\n",
    "history = model.fit(train_ds, epochs=10,\n",
    "                              steps_per_epoch=STEPS_PER_EPOCH)\n",
    "pd.DataFrame(history.history).plot()"
   ]
  },
  {
   "cell_type": "code",
   "execution_count": null,
   "metadata": {
    "collapsed": false,
    "jupyter": {
     "outputs_hidden": false
    },
    "pycharm": {
     "name": "#%%\n"
    }
   },
   "outputs": [],
   "source": [
    "base_model.trainable = True\n",
    "print(\"Number of layers in the base model: \", len(base_model.layers))\n",
    "fine_tune_at = 100\n",
    "for layer in base_model.layers[:fine_tune_at]:\n",
    "  layer.trainable =  False\n",
    "model.compile(loss=tf.keras.losses.BinaryCrossentropy(from_logits=True),\n",
    "              optimizer = tf.keras.optimizers.RMSprop(lr=base_learning_rate/10),\n",
    "              metrics=['accuracy'])\n",
    "model.summary()\n",
    "fine_tune_epochs = 10\n",
    "initial_epochs = 10\n",
    "total_epochs =  initial_epochs + fine_tune_epochs\n",
    "history_fine = model.fit(train_ds,\n",
    "                         epochs=total_epochs,\n",
    "                         initial_epoch =  history.epoch[-1],\n",
    "                         steps_per_epoch= STEPS_PER_EPOCH,\n",
    "                         validation_data=val_ds,\n",
    "                         validation_steps=VALIDATION_STEPS,)\n",
    "\n",
    "\n",
    "acc = history.history['accuracy'] + history_fine.history['accuracy']\n",
    "val_acc = history.history['val_accuracy'] + history_fine.history['val_accuracy']\n",
    "loss = history.history['loss'] + history_fine.history['loss']\n",
    "val_loss = history.history['val_loss'] + history_fine.history['val_loss']"
   ]
  },
  {
   "cell_type": "code",
   "execution_count": null,
   "metadata": {
    "collapsed": false,
    "jupyter": {
     "outputs_hidden": false
    },
    "pycharm": {
     "name": "#%%\n"
    }
   },
   "outputs": [],
   "source": [
    "plt.figure(figsize=(8, 8))\n",
    "plt.subplot(2, 1, 1)\n",
    "plt.plot(acc, label='Training Accuracy')\n",
    "plt.plot(val_acc, label='Validation Accuracy')\n",
    "plt.ylim([0.8, 1])\n",
    "plt.plot([initial_epochs-1,initial_epochs-1],\n",
    "          plt.ylim(), label='Start Fine Tuning')\n",
    "plt.legend(loc='lower right')\n",
    "plt.title('Training and Validation Accuracy')\n",
    "\n",
    "plt.subplot(2, 1, 2)\n",
    "plt.plot(loss, label='Training Loss')\n",
    "plt.plot(val_loss, label='Validation Loss')\n",
    "plt.ylim([0, 1.0])\n",
    "plt.plot([initial_epochs-1,initial_epochs-1],\n",
    "         plt.ylim(), label='Start Fine Tuning')\n",
    "plt.legend(loc='upper right')\n",
    "plt.title('Training and Validation Loss')\n",
    "plt.xlabel('epoch')\n",
    "plt.show()"
   ]
  }
 ],
 "metadata": {
  "kernelspec": {
   "name": "python3",
   "language": "python",
   "display_name": "Python 3"
  },
  "language_info": {
   "codemirror_mode": {
    "name": "ipython",
    "version": 3
   },
   "file_extension": ".py",
   "mimetype": "text/x-python",
   "name": "python",
   "nbconvert_exporter": "python",
   "pygments_lexer": "ipython3",
   "version": "3.7.3"
  }
 },
 "nbformat": 4,
 "nbformat_minor": 4
}