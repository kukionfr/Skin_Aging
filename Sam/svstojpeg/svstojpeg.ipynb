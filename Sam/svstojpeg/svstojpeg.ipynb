{
 "cells": [
  {
   "cell_type": "code",
   "execution_count": 3,
   "metadata": {
    "collapsed": true
   },
   "outputs": [],
   "source": [
    "import pandas as pd\n",
    "import numpy as np\n",
    "# from openslide import OpenSlide\n",
    "import os\n",
    "from PIL import Image"
   ]
  },
  {
   "cell_type": "code",
   "execution_count": 6,
   "outputs": [
    {
     "data": {
      "text/plain": "             x       y  objID  classID\n0       1251.0  7368.0    1.0      1.0\n1       1247.0  7365.0    1.0      1.0\n2       1243.0  7353.0    1.0      1.0\n3       1237.0  7343.0    1.0      1.0\n4       1235.0  7338.0    1.0      1.0\n...        ...     ...    ...      ...\n50134  73627.0  5707.0    4.0     14.0\n50135  73621.0  5700.0    4.0     14.0\n50136  73619.0  5694.0    4.0     14.0\n50137  73619.0  5692.0    4.0     14.0\n50138  73621.0  5694.0    4.0     14.0\n\n[50139 rows x 4 columns]",
      "text/html": "<div>\n<style scoped>\n    .dataframe tbody tr th:only-of-type {\n        vertical-align: middle;\n    }\n\n    .dataframe tbody tr th {\n        vertical-align: top;\n    }\n\n    .dataframe thead th {\n        text-align: right;\n    }\n</style>\n<table border=\"1\" class=\"dataframe\">\n  <thead>\n    <tr style=\"text-align: right;\">\n      <th></th>\n      <th>x</th>\n      <th>y</th>\n      <th>objID</th>\n      <th>classID</th>\n    </tr>\n  </thead>\n  <tbody>\n    <tr>\n      <th>0</th>\n      <td>1251.0</td>\n      <td>7368.0</td>\n      <td>1.0</td>\n      <td>1.0</td>\n    </tr>\n    <tr>\n      <th>1</th>\n      <td>1247.0</td>\n      <td>7365.0</td>\n      <td>1.0</td>\n      <td>1.0</td>\n    </tr>\n    <tr>\n      <th>2</th>\n      <td>1243.0</td>\n      <td>7353.0</td>\n      <td>1.0</td>\n      <td>1.0</td>\n    </tr>\n    <tr>\n      <th>3</th>\n      <td>1237.0</td>\n      <td>7343.0</td>\n      <td>1.0</td>\n      <td>1.0</td>\n    </tr>\n    <tr>\n      <th>4</th>\n      <td>1235.0</td>\n      <td>7338.0</td>\n      <td>1.0</td>\n      <td>1.0</td>\n    </tr>\n    <tr>\n      <th>...</th>\n      <td>...</td>\n      <td>...</td>\n      <td>...</td>\n      <td>...</td>\n    </tr>\n    <tr>\n      <th>50134</th>\n      <td>73627.0</td>\n      <td>5707.0</td>\n      <td>4.0</td>\n      <td>14.0</td>\n    </tr>\n    <tr>\n      <th>50135</th>\n      <td>73621.0</td>\n      <td>5700.0</td>\n      <td>4.0</td>\n      <td>14.0</td>\n    </tr>\n    <tr>\n      <th>50136</th>\n      <td>73619.0</td>\n      <td>5694.0</td>\n      <td>4.0</td>\n      <td>14.0</td>\n    </tr>\n    <tr>\n      <th>50137</th>\n      <td>73619.0</td>\n      <td>5692.0</td>\n      <td>4.0</td>\n      <td>14.0</td>\n    </tr>\n    <tr>\n      <th>50138</th>\n      <td>73621.0</td>\n      <td>5694.0</td>\n      <td>4.0</td>\n      <td>14.0</td>\n    </tr>\n  </tbody>\n</table>\n<p>50139 rows × 4 columns</p>\n</div>"
     },
     "execution_count": 6,
     "metadata": {},
     "output_type": "execute_result"
    }
   ],
   "source": [
    "csvsrc = r'C:\\Users\\kyuha\\PycharmProjects\\TeamKyu\\Sam\\xmltocsv'\n",
    "csv_fns = [_ for _ in os.listdir(csvsrc) if _.endswith('.csv')]\n",
    "csv_pths = [os.path.join(csvsrc,_) for _ in csv_fns]\n",
    "# csv_pths = [os.path.join(csvsrc,_) for _ in os.listdir(src) if _.endswith('.csv')]\n",
    "csvs = [pd.read_csv(_) for _ in csv_pths]\n",
    "csv = csvs[0]\n",
    "csv"
   ],
   "metadata": {
    "collapsed": false,
    "pycharm": {
     "name": "#%%\n"
    }
   }
  },
  {
   "cell_type": "code",
   "execution_count": null,
   "outputs": [],
   "source": [
    "svssrc = r''\n",
    "svss = [os.path.join(svssrc,_) for _ in os.listdir(svssrc) if _.endswith('.svs')]\n",
    "svs = OpenSlide(svss[0])"
   ],
   "metadata": {
    "collapsed": false,
    "pycharm": {
     "name": "#%%\n"
    }
   }
  },
  {
   "cell_type": "code",
   "execution_count": null,
   "outputs": [],
   "source": [
    "# make dst folder\n",
    "cropdst = os.path.join(svssrc,'crops')\n",
    "if not os.path.exists(cropdst):\n",
    "    os.mkdir(cropdst)\n",
    "# iterate objID in the csv\n",
    "# crop each object\n",
    "# save their classID and objID in the filename of jpeg.\n",
    "classIDs = csv['classID']\n",
    "classIDs = np.unique(classIDs)\n",
    "objIDs = csv['objID']\n",
    "objIDs = np.unique(objIDs)\n",
    "\n",
    "for classidx,classID in enumerate(classIDs):\n",
    "    for objidx,objID in enumerate(objIDs):\n",
    "        x = csv['x'][classID][objID]\n",
    "        # x = csv['x']\n",
    "        # x = x.iloc ?? look up how to subset pandas dataframe\n",
    "        y = csv['y'][classID][objID]\n",
    "        left = np.min(x)\n",
    "        right = np.max(x)\n",
    "        top = np.min(y)\n",
    "        bottom = np.max(y)\n",
    "        width = right - left\n",
    "        height = bottom - top\n",
    "        crop = svs.read_region((left,top,width,height))\n",
    "        cropfn = svs.replace('.svs','_class_'+str(classidx)+'_object_'+str(objidx)+'.jpeg')\n",
    "        cropfn = os.path.join(cropdst,cropfn)\n",
    "        crop.save(cropfn, \"JPEG\")"
   ],
   "metadata": {
    "collapsed": false,
    "pycharm": {
     "name": "#%%\n"
    }
   }
  }
 ],
 "metadata": {
  "kernelspec": {
   "display_name": "Python 3",
   "language": "python",
   "name": "python3"
  },
  "language_info": {
   "codemirror_mode": {
    "name": "ipython",
    "version": 2
   },
   "file_extension": ".py",
   "mimetype": "text/x-python",
   "name": "python",
   "nbconvert_exporter": "python",
   "pygments_lexer": "ipython2",
   "version": "2.7.6"
  }
 },
 "nbformat": 4,
 "nbformat_minor": 0
}