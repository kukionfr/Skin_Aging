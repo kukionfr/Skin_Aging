{
 "cells": [
  {
   "cell_type": "code",
   "execution_count": 3,
   "metadata": {
    "collapsed": true
   },
   "outputs": [],
   "source": [
    "import os"
   ]
  },
  {
   "cell_type": "code",
   "execution_count": 4,
   "outputs": [],
   "source": [
    "# src = r'\\\\motherserverdw\\Kyu_Sync\\server for undergrads\\SAM\\practicefiles'\n",
    "src = r'\\\\motherserverdw\\Kyu_Sync\\server for undergrads\\SAM\\fibroblast_detection_v1'\n",
    "\n",
    "tiles = [os.path.join(src,_) for _ in os.listdir(src) if 'tile' in _]\n",
    "# tiles = [_ for _ in tiles if '017' in _]\n",
    "imgs = [os.path.join(_,'image') for _ in tiles]\n",
    "masks = [os.path.join(_,'mask') for _ in tiles]\n",
    "for img,mask in zip(imgs,masks):\n",
    "    img_pngs = [_ for _ in os.listdir(img) if _.endswith('png')]\n",
    "    mask_pngs = [_ for _ in os.listdir(mask)]\n",
    "    masks_to_delete = [_ for _ in mask_pngs if _ not in img_pngs]\n",
    "    for item in masks_to_delete:\n",
    "        os.remove(os.path.join(mask,item))"
   ],
   "metadata": {
    "collapsed": false,
    "pycharm": {
     "name": "#%%\n"
    }
   }
  },
  {
   "cell_type": "code",
   "execution_count": 5,
   "outputs": [],
   "source": [
    "mask=os.path.abspath(mask)"
   ],
   "metadata": {
    "collapsed": false,
    "pycharm": {
     "name": "#%%\n"
    }
   }
  },
  {
   "cell_type": "code",
   "execution_count": 6,
   "outputs": [
    {
     "data": {
      "text/plain": "'\\\\\\\\motherserverdw\\\\Kyu_Sync\\\\server for undergrads\\\\SAM\\\\fibroblast_detection_v1\\\\5619_Wirtz.Denis_OTS-19_5619-037_1_tile\\\\mask'"
     },
     "execution_count": 6,
     "metadata": {},
     "output_type": "execute_result"
    }
   ],
   "source": [
    "mask"
   ],
   "metadata": {
    "collapsed": false,
    "pycharm": {
     "name": "#%%\n"
    }
   }
  },
  {
   "cell_type": "code",
   "execution_count": 7,
   "outputs": [
    {
     "data": {
      "text/plain": "['tile_0.png',\n 'tile_1.png',\n 'tile_10.png',\n 'tile_100.png',\n 'tile_101.png',\n 'tile_102.png',\n 'tile_103.png',\n 'tile_104.png',\n 'tile_105.png',\n 'tile_106.png',\n 'tile_109.png',\n 'tile_11.png',\n 'tile_110.png',\n 'tile_111.png',\n 'tile_112.png',\n 'tile_113.png',\n 'tile_114.png',\n 'tile_115.png',\n 'tile_116.png',\n 'tile_117.png',\n 'tile_118.png',\n 'tile_12.png',\n 'tile_120.png',\n 'tile_121.png',\n 'tile_122.png',\n 'tile_123.png',\n 'tile_124.png',\n 'tile_126.png',\n 'tile_129.png',\n 'tile_13.png',\n 'tile_130.png',\n 'tile_131.png',\n 'tile_132.png',\n 'tile_133.png',\n 'tile_134.png',\n 'tile_137.png',\n 'tile_138.png',\n 'tile_140.png',\n 'tile_141.png',\n 'tile_142.png',\n 'tile_143.png',\n 'tile_144.png',\n 'tile_145.png',\n 'tile_148.png',\n 'tile_150.png',\n 'tile_152.png',\n 'tile_153.png',\n 'tile_17.png',\n 'tile_18.png',\n 'tile_2.png',\n 'tile_20.png',\n 'tile_21.png',\n 'tile_24.png',\n 'tile_25.png',\n 'tile_27.png',\n 'tile_28.png',\n 'tile_29.png',\n 'tile_3.png',\n 'tile_30.png',\n 'tile_32.png',\n 'tile_33.png',\n 'tile_34.png',\n 'tile_36.png',\n 'tile_4.png',\n 'tile_41.png',\n 'tile_42.png',\n 'tile_44.png',\n 'tile_46.png',\n 'tile_47.png',\n 'tile_49.png',\n 'tile_5.png',\n 'tile_50.png',\n 'tile_51.png',\n 'tile_52.png',\n 'tile_53.png',\n 'tile_54.png',\n 'tile_59.png',\n 'tile_6.png',\n 'tile_60.png',\n 'tile_61.png',\n 'tile_62.png',\n 'tile_63.png',\n 'tile_64.png',\n 'tile_65.png',\n 'tile_66.png',\n 'tile_68.png',\n 'tile_69.png',\n 'tile_70.png',\n 'tile_72.png',\n 'tile_74.png',\n 'tile_75.png',\n 'tile_78.png',\n 'tile_8.png',\n 'tile_80.png',\n 'tile_82.png',\n 'tile_83.png',\n 'tile_86.png',\n 'tile_87.png',\n 'tile_9.png',\n 'tile_90.png',\n 'tile_91.png',\n 'tile_92.png',\n 'tile_93.png',\n 'tile_94.png',\n 'tile_95.png',\n 'tile_97.png']"
     },
     "execution_count": 7,
     "metadata": {},
     "output_type": "execute_result"
    }
   ],
   "source": [
    "os.listdir(mask)\n"
   ],
   "metadata": {
    "collapsed": false,
    "pycharm": {
     "name": "#%%\n"
    }
   }
  }
 ],
 "metadata": {
  "kernelspec": {
   "display_name": "Python 3",
   "language": "python",
   "name": "python3"
  },
  "language_info": {
   "codemirror_mode": {
    "name": "ipython",
    "version": 2
   },
   "file_extension": ".py",
   "mimetype": "text/x-python",
   "name": "python",
   "nbconvert_exporter": "python",
   "pygments_lexer": "ipython2",
   "version": "2.7.6"
  }
 },
 "nbformat": 4,
 "nbformat_minor": 0
}