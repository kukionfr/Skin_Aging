{
 "cells": [
  {
   "cell_type": "markdown",
   "metadata": {
    "collapsed": true,
    "pycharm": {
     "name": "#%% md\n"
    }
   },
   "source": [
    "Fibroblast morphological parameter measuring workflow\n",
    "\n",
    "Part 1 Use deep learning model to predict \"collagen\" region of the tissue\n",
    "\n",
    "step 1: manually annotate 14 classes of tissue region\n",
    "step 2: train deep learning model\n",
    "step 3: predict new images with deep learning model\n",
    "\n",
    "\n",
    "Part 2 Use predicted collagen region and detect fibroblast in the collagen\n",
    "\n",
    "step 1: load image and collagen mask to specify region of interest\n",
    "step 2: separate nucleus(H) and ECM(E) signal (H&E)\n",
    "step 3: use H-channel of image to segment nucleus\n",
    "step 4: separate fibroblasts from immune cells using (AR,SF,Dist,SZ)\n",
    "*step 5: manually eliminate false positive fibroblasts\n",
    "*step 6: train deep learning model to automatically identify false postiive fibroblast\n",
    "step 7: use DL model to identify true positive fibroblast cells\n",
    "\n",
    "Part 3 Statistical Analysis\n",
    "\n",
    "step 1: measure morphological parameters of both immune cells and fibroblast\n",
    "step 2: find statistically meaningful pattern between morphology of cells and age"
   ]
  }
 ],
 "metadata": {
  "kernelspec": {
   "display_name": "Python 3",
   "language": "python",
   "name": "python3"
  },
  "language_info": {
   "codemirror_mode": {
    "name": "ipython",
    "version": 2
   },
   "file_extension": ".py",
   "mimetype": "text/x-python",
   "name": "python",
   "nbconvert_exporter": "python",
   "pygments_lexer": "ipython2",
   "version": "2.7.6"
  }
 },
 "nbformat": 4,
 "nbformat_minor": 0
}