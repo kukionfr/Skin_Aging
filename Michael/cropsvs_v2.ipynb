{
 "cells": [
  {
   "cell_type": "code",
   "execution_count": 1,
   "metadata": {
    "collapsed": true
   },
   "outputs": [],
   "source": [
    "import os\n",
    "from openslide import OpenSlide\n",
    "import cv2\n",
    "import xml.etree.ElementTree as ET\n",
    "import numpy as np\n",
    "import pandas as pd"
   ]
  },
  {
   "cell_type": "code",
   "execution_count": 2,
   "outputs": [],
   "source": [
    "svs = '/home/kuki2070s2/PycharmProjects/TeamKyu/Michael/5619_Wirtz.Denis_OTS-19_5619-009.svs'\n",
    "# svss = [_ for _ in os.listdir(src) if _.endswith('svs')]\n",
    "# svs = svss[0]\n",
    "# svs = src\n",
    "\n",
    "# svs = OpenSlide(os.path.join(src,svs))\n",
    "\n",
    "# xmls = [_ for _ in os.listdir(src) if _.endswith('xml')]\n",
    "xml = '/home/kuki2070s2/PycharmProjects/TeamKyu/Michael/5619_Wirtz.Denis_OTS-19_5619-009.xml'\n",
    "\n",
    "tree = ET.parse(xml)\n",
    "root = tree.getroot()\n",
    "# pre-allocate arrays of interest\n",
    "x = np.array([])\n",
    "y = np.array([])\n",
    "obj = np.array([])\n",
    "label = np.array([])\n",
    "\n",
    "for Annotation in root.iter('Annotation'):\n",
    "  for Region in Annotation.iter('Region'):\n",
    "     xx = np.array([int(Vertex.get('X')) for Vertex in Region.iter('Vertex')])\n",
    "     yy = np.array([int(Vertex.get('Y')) for Vertex in Region.iter('Vertex')])\n",
    "     objj = np.array([int(Region.get('Id'))]*len(xx))\n",
    "     labell = np.array([int(Annotation.get('Id'))]*len(xx))\n",
    "     x = np.concatenate((x,xx),axis=None)\n",
    "     y = np.concatenate((y,yy),axis=None)\n",
    "     obj = np.concatenate((obj,objj),axis=None)\n",
    "     label = np.concatenate((label,labell),axis=None)\n",
    "mdict = {'x':x,'y':y,'objID':obj,'label':label}\n",
    "df = pd.DataFrame(mdict)"
   ],
   "metadata": {
    "collapsed": false,
    "pycharm": {
     "name": "#%%\n"
    }
   }
  },
  {
   "cell_type": "code",
   "execution_count": 3,
   "outputs": [
    {
     "name": "stderr",
     "output_type": "stream",
     "text": [
      "/home/kuki2070s2/anaconda3/envs/TF2Shared/lib/python3.7/site-packages/ipykernel_launcher.py:7: UserWarning: Boolean Series key will be reindexed to match DataFrame index.\n",
      "  import sys\n"
     ]
    }
   ],
   "source": [
    "import openslide\n",
    "import math\n",
    "\n",
    "for classidx, classid in enumerate(np.unique(df['label'])):\n",
    "    for objidx, objid in enumerate(np.unique(df['objID'])):\n",
    "        try:\n",
    "            object = df[df['label']==classid][df['objID']==objid]\n",
    "            x = object['x']\n",
    "            y = object['y']\n",
    "            xmin = np.min(x)\n",
    "            xmax = np.max(x)\n",
    "            ymin = np.min(y)\n",
    "            ymax = np.max(y)\n",
    "            size = (int(xmax-xmin),int(ymax-ymin))\n",
    "            slide = openslide.OpenSlide(svs)\n",
    "            region = np.array(slide.read_region(location=(int(xmin),int(ymin)),level=0,size=size))\n",
    "            vert = np.array([[i-xmin,j-ymin] for i,j in zip(x,y)]).astype(np.int32)\n",
    "            mask = np.zeros((size[1],size[0]), dtype=np.uint8)\n",
    "            cv2.fillPoly(mask,[vert],color=255)\n",
    "            cv2.imwrite('class'+str(classidx)+'obj'+str(objidx)+'.tif', mask)\n",
    "            cv2.imwrite('class'+str(classidx)+'obj'+str(objidx)+'.jpg', region)\n",
    "            if np.min(mask.size) < 256:\n",
    "                x_centroid = np.sum(x)/len(x)\n",
    "                y_centroid = np.sum(y)/len(y)\n",
    "                l,r = x_centroid - 128, x_centroid + 128\n",
    "                u,d = y_centroid - 128, y_centroid + 128\n",
    "                mask = np.zeros(((d - u), (r - l)), dtype=np.uint8)\n",
    "                # multiplier = 256 / np.min(mask.size)\n",
    "                # mask.size = [int(round(multiplier*x)) for x in mask.size]\n",
    "                # region.size = [int(round(multiplier*x)) for x in region.size]\n",
    "            else:\n",
    "                tile_size = (256, 256)\n",
    "                offset = (256, 256)\n",
    "                img = mask\n",
    "                img_shape = mask.shape\n",
    "                for i in range(int(math.floor(img_shape[0]/(offset[1] * 1.0)))):\n",
    "                    for j in range(int(math.floor(img_shape[1]/(offset[0] * 1.0)))):\n",
    "                        cropped_img = img[offset[1]*i:min(offset[1]*i+tile_size[1], img_shape[0]), offset[0]*j:min(offset[0]*j+tile_size[0], img_shape[1])]\n",
    "                        cv2.imwrite(\"class\" + str(classid) + \"object\" + str(objid) + \"_\" + str(i) + \"_\" + str(j) + \"mask\" + \".png\", cropped_img)\n",
    "                img = region\n",
    "                img_shape = region.shape\n",
    "                for i in range(int(math.floor(img_shape[0]/(offset[1] * 1.0)))):\n",
    "                    for j in range(int(math.floor(img_shape[1]/(offset[0] * 1.0)))):\n",
    "                        cropped_img = img[offset[1]*i:min(offset[1]*i+tile_size[1], img_shape[0]), offset[0]*j:min(offset[0]*j+tile_size[0], img_shape[1])]\n",
    "                        cv2.imwrite(\"class\" + str(classid) + \"object\" + str(objid) + \"_\" + str(i) + \"_\" + str(j) + \"image\" + \".png\", cropped_img)\n",
    "        except ValueError:\n",
    "            continue"
   ],
   "metadata": {
    "collapsed": false,
    "pycharm": {
     "name": "#%%\n"
    }
   }
  },
  {
   "cell_type": "code",
   "execution_count": null,
   "outputs": [],
   "source": [
    "#check for images smaller than 256 and increase the size to 256"
   ],
   "metadata": {
    "collapsed": false,
    "pycharm": {
     "name": "#%%\n"
    }
   }
  }
 ],
 "metadata": {
  "kernelspec": {
   "display_name": "Python 3",
   "language": "python",
   "name": "python3"
  },
  "language_info": {
   "codemirror_mode": {
    "name": "ipython",
    "version": 2
   },
   "file_extension": ".py",
   "mimetype": "text/x-python",
   "name": "python",
   "nbconvert_exporter": "python",
   "pygments_lexer": "ipython2",
   "version": "2.7.6"
  }
 },
 "nbformat": 4,
 "nbformat_minor": 0
}